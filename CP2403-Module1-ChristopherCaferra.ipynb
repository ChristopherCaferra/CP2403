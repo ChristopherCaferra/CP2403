{
 "cells": [
  {
   "cell_type": "markdown",
   "metadata": {},
   "source": [
    "# First Name: Christopher\n",
    "# Last Name: Caferra"
   ]
  },
  {
   "cell_type": "markdown",
   "metadata": {},
   "source": [
    "# Importing libraries"
   ]
  },
  {
   "cell_type": "code",
   "execution_count": 1,
   "metadata": {},
   "outputs": [],
   "source": [
    "#import pandas & numpy\n",
    "import pandas as pd\n",
    "import numpy as np"
   ]
  },
  {
   "cell_type": "markdown",
   "metadata": {},
   "source": [
    "# Read in the nesarc.csv file"
   ]
  },
  {
   "cell_type": "code",
   "execution_count": 2,
   "metadata": {},
   "outputs": [],
   "source": [
    "#read in csv file into \n",
    "nesarc = pd.read_csv('nesarc.csv', low_memory=False) #increase efficiency"
   ]
  },
  {
   "cell_type": "markdown",
   "metadata": {},
   "source": [
    "# getting the number of rows, columns and printing the first 5 rows"
   ]
  },
  {
   "cell_type": "code",
   "execution_count": 3,
   "metadata": {},
   "outputs": [
    {
     "name": "stdout",
     "output_type": "stream",
     "text": [
      "43093\n",
      "760\n"
     ]
    },
    {
     "data": {
      "text/html": [
       "<div>\n",
       "<style scoped>\n",
       "    .dataframe tbody tr th:only-of-type {\n",
       "        vertical-align: middle;\n",
       "    }\n",
       "\n",
       "    .dataframe tbody tr th {\n",
       "        vertical-align: top;\n",
       "    }\n",
       "\n",
       "    .dataframe thead th {\n",
       "        text-align: right;\n",
       "    }\n",
       "</style>\n",
       "<table border=\"1\" class=\"dataframe\">\n",
       "  <thead>\n",
       "    <tr style=\"text-align: right;\">\n",
       "      <th></th>\n",
       "      <th>S3BQ1A1</th>\n",
       "      <th>ETHRACE2A</th>\n",
       "      <th>ETOTLCA2</th>\n",
       "      <th>IDNUM</th>\n",
       "      <th>PSU</th>\n",
       "      <th>STRATUM</th>\n",
       "      <th>WEIGHT</th>\n",
       "      <th>CDAY</th>\n",
       "      <th>CMON</th>\n",
       "      <th>CYEAR</th>\n",
       "      <th>...</th>\n",
       "      <th>SOLP12ABDEP</th>\n",
       "      <th>HAL12ABDEP</th>\n",
       "      <th>HALP12ABDEP</th>\n",
       "      <th>MAR12ABDEP</th>\n",
       "      <th>MARP12ABDEP</th>\n",
       "      <th>HER12ABDEP</th>\n",
       "      <th>HERP12ABDEP</th>\n",
       "      <th>OTHB12ABDEP</th>\n",
       "      <th>OTHBP12ABDEP</th>\n",
       "      <th>NDSymptoms</th>\n",
       "    </tr>\n",
       "  </thead>\n",
       "  <tbody>\n",
       "    <tr>\n",
       "      <th>0</th>\n",
       "      <td>0</td>\n",
       "      <td>5</td>\n",
       "      <td></td>\n",
       "      <td>1</td>\n",
       "      <td>4007</td>\n",
       "      <td>403</td>\n",
       "      <td>3928.613505</td>\n",
       "      <td>14</td>\n",
       "      <td>8</td>\n",
       "      <td>2001</td>\n",
       "      <td>...</td>\n",
       "      <td>0</td>\n",
       "      <td>0</td>\n",
       "      <td>0</td>\n",
       "      <td>0</td>\n",
       "      <td>0</td>\n",
       "      <td>0</td>\n",
       "      <td>0</td>\n",
       "      <td>0</td>\n",
       "      <td>0</td>\n",
       "      <td>NaN</td>\n",
       "    </tr>\n",
       "    <tr>\n",
       "      <th>1</th>\n",
       "      <td>1</td>\n",
       "      <td>5</td>\n",
       "      <td>0.0014</td>\n",
       "      <td>2</td>\n",
       "      <td>6045</td>\n",
       "      <td>604</td>\n",
       "      <td>3638.691845</td>\n",
       "      <td>12</td>\n",
       "      <td>1</td>\n",
       "      <td>2002</td>\n",
       "      <td>...</td>\n",
       "      <td>0</td>\n",
       "      <td>0</td>\n",
       "      <td>0</td>\n",
       "      <td>0</td>\n",
       "      <td>0</td>\n",
       "      <td>0</td>\n",
       "      <td>0</td>\n",
       "      <td>0</td>\n",
       "      <td>0</td>\n",
       "      <td>NaN</td>\n",
       "    </tr>\n",
       "    <tr>\n",
       "      <th>2</th>\n",
       "      <td>2</td>\n",
       "      <td>5</td>\n",
       "      <td></td>\n",
       "      <td>3</td>\n",
       "      <td>12042</td>\n",
       "      <td>1218</td>\n",
       "      <td>5779.032025</td>\n",
       "      <td>23</td>\n",
       "      <td>11</td>\n",
       "      <td>2001</td>\n",
       "      <td>...</td>\n",
       "      <td>0</td>\n",
       "      <td>0</td>\n",
       "      <td>0</td>\n",
       "      <td>0</td>\n",
       "      <td>0</td>\n",
       "      <td>0</td>\n",
       "      <td>0</td>\n",
       "      <td>0</td>\n",
       "      <td>0</td>\n",
       "      <td>NaN</td>\n",
       "    </tr>\n",
       "    <tr>\n",
       "      <th>3</th>\n",
       "      <td>3</td>\n",
       "      <td>5</td>\n",
       "      <td></td>\n",
       "      <td>4</td>\n",
       "      <td>17099</td>\n",
       "      <td>1704</td>\n",
       "      <td>1071.754303</td>\n",
       "      <td>9</td>\n",
       "      <td>9</td>\n",
       "      <td>2001</td>\n",
       "      <td>...</td>\n",
       "      <td>0</td>\n",
       "      <td>0</td>\n",
       "      <td>0</td>\n",
       "      <td>0</td>\n",
       "      <td>0</td>\n",
       "      <td>0</td>\n",
       "      <td>0</td>\n",
       "      <td>0</td>\n",
       "      <td>0</td>\n",
       "      <td>NaN</td>\n",
       "    </tr>\n",
       "    <tr>\n",
       "      <th>4</th>\n",
       "      <td>4</td>\n",
       "      <td>2</td>\n",
       "      <td></td>\n",
       "      <td>5</td>\n",
       "      <td>17099</td>\n",
       "      <td>1704</td>\n",
       "      <td>4986.952377</td>\n",
       "      <td>18</td>\n",
       "      <td>10</td>\n",
       "      <td>2001</td>\n",
       "      <td>...</td>\n",
       "      <td>0</td>\n",
       "      <td>0</td>\n",
       "      <td>0</td>\n",
       "      <td>0</td>\n",
       "      <td>0</td>\n",
       "      <td>0</td>\n",
       "      <td>0</td>\n",
       "      <td>0</td>\n",
       "      <td>0</td>\n",
       "      <td>NaN</td>\n",
       "    </tr>\n",
       "  </tbody>\n",
       "</table>\n",
       "<p>5 rows × 760 columns</p>\n",
       "</div>"
      ],
      "text/plain": [
       "   S3BQ1A1  ETHRACE2A ETOTLCA2  IDNUM    PSU  STRATUM       WEIGHT  CDAY  \\\n",
       "0        0          5               1   4007      403  3928.613505    14   \n",
       "1        1          5   0.0014      2   6045      604  3638.691845    12   \n",
       "2        2          5               3  12042     1218  5779.032025    23   \n",
       "3        3          5               4  17099     1704  1071.754303     9   \n",
       "4        4          2               5  17099     1704  4986.952377    18   \n",
       "\n",
       "   CMON  CYEAR     ...      SOLP12ABDEP  HAL12ABDEP  HALP12ABDEP  MAR12ABDEP  \\\n",
       "0     8   2001     ...                0           0            0           0   \n",
       "1     1   2002     ...                0           0            0           0   \n",
       "2    11   2001     ...                0           0            0           0   \n",
       "3     9   2001     ...                0           0            0           0   \n",
       "4    10   2001     ...                0           0            0           0   \n",
       "\n",
       "   MARP12ABDEP  HER12ABDEP  HERP12ABDEP  OTHB12ABDEP  OTHBP12ABDEP  NDSymptoms  \n",
       "0            0           0            0            0             0         NaN  \n",
       "1            0           0            0            0             0         NaN  \n",
       "2            0           0            0            0             0         NaN  \n",
       "3            0           0            0            0             0         NaN  \n",
       "4            0           0            0            0             0         NaN  \n",
       "\n",
       "[5 rows x 760 columns]"
      ]
     },
     "execution_count": 3,
     "metadata": {},
     "output_type": "execute_result"
    }
   ],
   "source": [
    "print (len(nesarc)) #number of rows (observations)\n",
    "print (len(nesarc.columns)) # number of columns (variables)\n",
    "\n",
    "nesarc.head() #print the first five rows"
   ]
  },
  {
   "cell_type": "markdown",
   "metadata": {},
   "source": [
    "# Nicotine dependence - 12 months (TAB12MDX)"
   ]
  },
  {
   "cell_type": "code",
   "execution_count": 4,
   "metadata": {},
   "outputs": [
    {
     "data": {
      "text/plain": [
       "0     0\n",
       "1     0\n",
       "2     0\n",
       "3     0\n",
       "4     0\n",
       "5     0\n",
       "6     0\n",
       "7     0\n",
       "8     0\n",
       "9     0\n",
       "10    1\n",
       "11    0\n",
       "12    0\n",
       "13    0\n",
       "14    1\n",
       "15    0\n",
       "16    0\n",
       "17    1\n",
       "18    0\n",
       "19    0\n",
       "20    1\n",
       "21    0\n",
       "22    1\n",
       "23    0\n",
       "24    0\n",
       "Name: TAB12MDX, dtype: int64"
      ]
     },
     "execution_count": 4,
     "metadata": {},
     "output_type": "execute_result"
    }
   ],
   "source": [
    "nesarc['TAB12MDX'] = pd.to_numeric(nesarc['TAB12MDX'],errors='coerce') #convert variable to numeric\n",
    "nesarc['TAB12MDX'].head(25) #print the first 25 rows"
   ]
  },
  {
   "cell_type": "code",
   "execution_count": 5,
   "metadata": {},
   "outputs": [
    {
     "name": "stdout",
     "output_type": "stream",
     "text": [
      "0    38131\n",
      "1     4962\n",
      "Name: TAB12MDX, dtype: int64\n",
      "0    0.884854\n",
      "1    0.115146\n",
      "Name: TAB12MDX, dtype: float64\n"
     ]
    }
   ],
   "source": [
    "#calculate counts \n",
    "c_nic_dep = nesarc['TAB12MDX'].value_counts(sort=False) #sort by values (not count)\n",
    "print (c_nic_dep)\n",
    "\n",
    "#calculate percentages\n",
    "p_nic_dep = nesarc['TAB12MDX'].value_counts(sort=False, normalize=True) #normalize=True will give percentage\n",
    "print (p_nic_dep)"
   ]
  },
  {
   "cell_type": "code",
   "execution_count": 6,
   "metadata": {},
   "outputs": [
    {
     "name": "stdout",
     "output_type": "stream",
     "text": [
      "counts for TAB12MDX\n",
      "0    38131\n",
      "1     4962\n",
      "Name: TAB12MDX, dtype: int64\n",
      "percentages for TAB12MDX\n",
      "0    0.884854\n",
      "1    0.115146\n",
      "Name: TAB12MDX, dtype: float64\n"
     ]
    }
   ],
   "source": [
    "print('counts for TAB12MDX') #add titles to understand output\n",
    "print (c_nic_dep)\n",
    "\n",
    "print('percentages for TAB12MDX') #add titles to understand output\n",
    "print (p_nic_dep)"
   ]
  },
  {
   "cell_type": "code",
   "execution_count": 7,
   "metadata": {},
   "outputs": [
    {
     "name": "stdout",
     "output_type": "stream",
     "text": [
      "counts for TAB12MDX – nicotine dependence in the past 12 months, yes=1\n",
      "0    38131\n",
      "1     4962\n",
      "Name: TAB12MDX, dtype: int64\n",
      "percentages for TAB12MDX nicotine dependence in the past 12 months, yes=1\n",
      "0    0.884854\n",
      "1    0.115146\n",
      "Name: TAB12MDX, dtype: float64\n"
     ]
    }
   ],
   "source": [
    "print ('counts for TAB12MDX – nicotine dependence in the past 12 months, yes=1') #better titles\n",
    "print (c_nic_dep)\n",
    "\n",
    "print ('percentages for TAB12MDX nicotine dependence in the past 12 months, yes=1') #better titles\n",
    "print (p_nic_dep)"
   ]
  },
  {
   "cell_type": "markdown",
   "metadata": {},
   "source": [
    "# Cigarette smoking status (CHECK321)"
   ]
  },
  {
   "cell_type": "code",
   "execution_count": 8,
   "metadata": {},
   "outputs": [
    {
     "data": {
      "text/plain": [
       "0     NaN\n",
       "1     NaN\n",
       "2     NaN\n",
       "3     NaN\n",
       "4     NaN\n",
       "5     NaN\n",
       "6     NaN\n",
       "7     NaN\n",
       "8     NaN\n",
       "9     NaN\n",
       "10    1.0\n",
       "11    2.0\n",
       "12    NaN\n",
       "13    1.0\n",
       "14    1.0\n",
       "15    NaN\n",
       "16    2.0\n",
       "17    1.0\n",
       "18    1.0\n",
       "19    NaN\n",
       "20    1.0\n",
       "21    NaN\n",
       "22    1.0\n",
       "23    NaN\n",
       "24    NaN\n",
       "Name: CHECK321, dtype: float64"
      ]
     },
     "execution_count": 8,
     "metadata": {},
     "output_type": "execute_result"
    }
   ],
   "source": [
    "nesarc['CHECK321'] = pd.to_numeric(nesarc['CHECK321'], errors='coerce') #convert smoking status to numeric\n",
    "nesarc['CHECK321'].head(25) #print the first 25"
   ]
  },
  {
   "cell_type": "code",
   "execution_count": 9,
   "metadata": {},
   "outputs": [
    {
     "name": "stdout",
     "output_type": "stream",
     "text": [
      "counts for CHECK321 smoked in the past year, yes=1\n",
      "1.0    9913\n",
      "2.0    8078\n",
      "9.0      22\n",
      "Name: CHECK321, dtype: int64\n",
      "percentages for CHECK321 smoked in the past year, yes=1\n",
      "1.0    0.550325\n",
      "2.0    0.448454\n",
      "9.0    0.001221\n",
      "Name: CHECK321, dtype: float64\n"
     ]
    }
   ],
   "source": [
    "c_cig_status = nesarc['CHECK321'].value_counts(sort=False) #get count in each category\n",
    "print ('counts for CHECK321 smoked in the past year, yes=1')\n",
    "print(c_cig_status)\n",
    "\n",
    "p_cig_status = nesarc['CHECK321'].value_counts(sort=False, normalize=True) #get percentage\n",
    "print ('percentages for CHECK321 smoked in the past year, yes=1')\n",
    "print (p_cig_status)"
   ]
  },
  {
   "cell_type": "markdown",
   "metadata": {},
   "source": [
    "# Usual frequency of smoked cigarettes (S3AQ3B1)"
   ]
  },
  {
   "cell_type": "code",
   "execution_count": 10,
   "metadata": {},
   "outputs": [
    {
     "data": {
      "text/plain": [
       "0     NaN\n",
       "1     NaN\n",
       "2     NaN\n",
       "3     NaN\n",
       "4     NaN\n",
       "5     NaN\n",
       "6     NaN\n",
       "7     NaN\n",
       "8     NaN\n",
       "9     NaN\n",
       "10    1.0\n",
       "11    1.0\n",
       "12    NaN\n",
       "13    1.0\n",
       "14    1.0\n",
       "15    NaN\n",
       "16    5.0\n",
       "17    1.0\n",
       "18    1.0\n",
       "19    NaN\n",
       "20    1.0\n",
       "21    NaN\n",
       "22    1.0\n",
       "23    NaN\n",
       "24    NaN\n",
       "Name: S3AQ3B1, dtype: float64"
      ]
     },
     "execution_count": 10,
     "metadata": {},
     "output_type": "execute_result"
    }
   ],
   "source": [
    "nesarc['S3AQ3B1'] = pd.to_numeric(nesarc['S3AQ3B1'], errors='coerce')\n",
    "nesarc['S3AQ3B1'].head(25)"
   ]
  },
  {
   "cell_type": "code",
   "execution_count": 11,
   "metadata": {},
   "outputs": [
    {
     "name": "stdout",
     "output_type": "stream",
     "text": [
      "counts for S3AQ3B1 –usual frequency when smoked cigarettes\n",
      "1.0    14836\n",
      "4.0      747\n",
      "2.0      460\n",
      "9.0      102\n",
      "5.0      409\n",
      "3.0      687\n",
      "6.0      772\n",
      "Name: S3AQ3B1, dtype: int64\n",
      "percentages for S3AQ3B1 - usual frequency when smoked cigarettes\n",
      "1.0    0.823627\n",
      "4.0    0.041470\n",
      "2.0    0.025537\n",
      "9.0    0.005663\n",
      "5.0    0.022706\n",
      "3.0    0.038139\n",
      "6.0    0.042858\n",
      "Name: S3AQ3B1, dtype: float64\n"
     ]
    }
   ],
   "source": [
    "c_cig_feq = nesarc['S3AQ3B1'].value_counts(sort=False)\n",
    "print ('counts for S3AQ3B1 –usual frequency when smoked cigarettes')\n",
    "print(c_cig_feq)\n",
    "\n",
    "p_cig_feq = nesarc['S3AQ3B1'].value_counts(sort=False, normalize=True)\n",
    "print ('percentages for S3AQ3B1 - usual frequency when smoked cigarettes')\n",
    "print (p_cig_feq)"
   ]
  },
  {
   "cell_type": "code",
   "execution_count": 12,
   "metadata": {},
   "outputs": [
    {
     "name": "stdout",
     "output_type": "stream",
     "text": [
      "counts for S3AQ3B1 –usual frequency when smoked cigarettes\n",
      "1.0    14836\n",
      "2.0      460\n",
      "3.0      687\n",
      "4.0      747\n",
      "5.0      409\n",
      "6.0      772\n",
      "9.0      102\n",
      "Name: S3AQ3B1, dtype: int64\n",
      "percentages for S3AQ3B1 - usual frequency when smoked cigarettes\n",
      "1.0    0.823627\n",
      "6.0    0.042858\n",
      "4.0    0.041470\n",
      "3.0    0.038139\n",
      "2.0    0.025537\n",
      "5.0    0.022706\n",
      "9.0    0.005663\n",
      "Name: S3AQ3B1, dtype: float64\n"
     ]
    }
   ],
   "source": [
    "nesarc['S3AQ3B1'] = nesarc['S3AQ3B1'].astype('category') #set the data type as categorical data\n",
    "\n",
    "c_cig_feq = nesarc['S3AQ3B1'].value_counts(sort=False)\n",
    "print ('counts for S3AQ3B1 –usual frequency when smoked cigarettes')\n",
    "print(c_cig_feq)\n",
    "\n",
    "p_cig_feq = nesarc['S3AQ3B1'].value_counts(sort=True, normalize=True)\n",
    "print ('percentages for S3AQ3B1 - usual frequency when smoked cigarettes')\n",
    "print (p_cig_feq)"
   ]
  },
  {
   "cell_type": "markdown",
   "metadata": {},
   "source": [
    "# Usual quantity when smoked cigarettes (S3AQ3C1)"
   ]
  },
  {
   "cell_type": "code",
   "execution_count": 13,
   "metadata": {},
   "outputs": [
    {
     "name": "stdout",
     "output_type": "stream",
     "text": [
      "counts for S3AQ3C1 usual quantity when smoked cigarettes\n",
      "1.0      934\n",
      "2.0      884\n",
      "3.0      923\n",
      "4.0      573\n",
      "5.0     1070\n",
      "6.0      463\n",
      "7.0      269\n",
      "8.0      299\n",
      "9.0       49\n",
      "10.0    3077\n",
      "11.0      23\n",
      "12.0     230\n",
      "13.0      34\n",
      "14.0      25\n",
      "15.0     851\n",
      "16.0      40\n",
      "17.0      22\n",
      "18.0      59\n",
      "19.0       5\n",
      "20.0    5366\n",
      "21.0       1\n",
      "22.0      10\n",
      "23.0       2\n",
      "24.0       7\n",
      "25.0     155\n",
      "27.0       2\n",
      "28.0       3\n",
      "29.0       3\n",
      "30.0     909\n",
      "33.0       1\n",
      "34.0       1\n",
      "35.0      30\n",
      "37.0       2\n",
      "39.0       1\n",
      "40.0     993\n",
      "45.0       8\n",
      "50.0     106\n",
      "55.0       2\n",
      "57.0       1\n",
      "60.0     241\n",
      "66.0       1\n",
      "70.0      12\n",
      "75.0       2\n",
      "80.0      47\n",
      "98.0      15\n",
      "99.0     262\n",
      "Name: S3AQ3C1, dtype: int64\n",
      "percentages for S3AQ3C1 usual quantity when smoked cigarettes\n",
      "1.0     0.051851\n",
      "2.0     0.049076\n",
      "3.0     0.051241\n",
      "4.0     0.031810\n",
      "5.0     0.059402\n",
      "6.0     0.025704\n",
      "7.0     0.014934\n",
      "8.0     0.016599\n",
      "9.0     0.002720\n",
      "10.0    0.170821\n",
      "11.0    0.001277\n",
      "12.0    0.012769\n",
      "13.0    0.001888\n",
      "14.0    0.001388\n",
      "15.0    0.047244\n",
      "16.0    0.002221\n",
      "17.0    0.001221\n",
      "18.0    0.003275\n",
      "19.0    0.000278\n",
      "20.0    0.297896\n",
      "21.0    0.000056\n",
      "22.0    0.000555\n",
      "23.0    0.000111\n",
      "24.0    0.000389\n",
      "25.0    0.008605\n",
      "27.0    0.000111\n",
      "28.0    0.000167\n",
      "29.0    0.000167\n",
      "30.0    0.050464\n",
      "33.0    0.000056\n",
      "34.0    0.000056\n",
      "35.0    0.001665\n",
      "37.0    0.000111\n",
      "39.0    0.000056\n",
      "40.0    0.055127\n",
      "45.0    0.000444\n",
      "50.0    0.005885\n",
      "55.0    0.000111\n",
      "57.0    0.000056\n",
      "60.0    0.013379\n",
      "66.0    0.000056\n",
      "70.0    0.000666\n",
      "75.0    0.000111\n",
      "80.0    0.002609\n",
      "98.0    0.000833\n",
      "99.0    0.014545\n",
      "Name: S3AQ3C1, dtype: float64\n"
     ]
    }
   ],
   "source": [
    "nesarc['S3AQ3C1'] = pd.to_numeric(nesarc['S3AQ3C1'], errors='coerce')\n",
    "nesarc['S3AQ3C1'] = nesarc['S3AQ3C1'].astype(\"category\")#check code - M\n",
    "\n",
    "c_cig_quan = nesarc['S3AQ3C1'].value_counts(sort=False)\n",
    "print ('counts for S3AQ3C1 usual quantity when smoked cigarettes')\n",
    "print(c_cig_quan)\n",
    "\n",
    "p_cig_quan = nesarc['S3AQ3C1'].value_counts(sort=False, normalize=True)\n",
    "print ('percentages for S3AQ3C1 usual quantity when smoked cigarettes')\n",
    "\n",
    "print (p_cig_quan)"
   ]
  },
  {
   "cell_type": "markdown",
   "metadata": {},
   "source": [
    "# Groupby - An alternative way to do count & percentages"
   ]
  },
  {
   "cell_type": "code",
   "execution_count": 14,
   "metadata": {},
   "outputs": [
    {
     "name": "stdout",
     "output_type": "stream",
     "text": [
      "TAB12MDX\n",
      "0    38131\n",
      "1     4962\n",
      "dtype: int64\n"
     ]
    }
   ],
   "source": [
    "#count using groupby\n",
    "c_nic_dep_alt = nesarc.groupby('TAB12MDX').size()\n",
    "print(c_nic_dep_alt)"
   ]
  },
  {
   "cell_type": "code",
   "execution_count": 15,
   "metadata": {},
   "outputs": [
    {
     "name": "stdout",
     "output_type": "stream",
     "text": [
      "TAB12MDX\n",
      "0    88.485369\n",
      "1    11.514631\n",
      "dtype: float64\n"
     ]
    }
   ],
   "source": [
    "p_nic_dep_alt = nesarc.groupby('TAB12MDX').size()*100/len(nesarc)\n",
    "print(p_nic_dep_alt)"
   ]
  },
  {
   "cell_type": "markdown",
   "metadata": {},
   "source": [
    "# Subset of data"
   ]
  },
  {
   "cell_type": "code",
   "execution_count": 16,
   "metadata": {},
   "outputs": [
    {
     "name": "stdout",
     "output_type": "stream",
     "text": [
      "counts for AGE\n",
      "18    161\n",
      "19    200\n",
      "20    221\n",
      "21    239\n",
      "22    228\n",
      "23    231\n",
      "24    241\n",
      "25    185\n",
      "Name: AGE, dtype: int64\n",
      "percentages for AGE\n",
      "18    0.094373\n",
      "19    0.117233\n",
      "20    0.129543\n",
      "21    0.140094\n",
      "22    0.133646\n",
      "23    0.135404\n",
      "24    0.141266\n",
      "25    0.108441\n",
      "Name: AGE, dtype: float64\n"
     ]
    }
   ],
   "source": [
    "nesarc['AGE'] = pd.to_numeric(nesarc['AGE'], errors='coerce')\n",
    "\n",
    "#subset data to young adults age 18 to 25 who have smoked in the past 12 months\n",
    "sub1=nesarc[(nesarc['AGE']>=18) & (nesarc['AGE']<=25) & (nesarc['CHECK321']==1)]\n",
    "\n",
    "#make a copy of the new subsetted data\n",
    "sub2 = sub1.copy()\n",
    "\n",
    "c5 = sub2['AGE'].value_counts(sort=False)\n",
    "print ('counts for AGE')\n",
    "print(c5)\n",
    "\n",
    "p5 = sub2['AGE'].value_counts(sort=False, normalize=True)\n",
    "print ('percentages for AGE')\n",
    "print (p5)"
   ]
  },
  {
   "cell_type": "markdown",
   "metadata": {},
   "source": [
    "# Column Names to upper case"
   ]
  },
  {
   "cell_type": "code",
   "execution_count": 17,
   "metadata": {},
   "outputs": [],
   "source": [
    "#convert all column names to upper case\n",
    "nesarc.columns = map(str.upper,nesarc.columns)"
   ]
  },
  {
   "cell_type": "markdown",
   "metadata": {},
   "source": [
    "# avoid run time errors - bug fix for display formats "
   ]
  },
  {
   "cell_type": "code",
   "execution_count": 18,
   "metadata": {},
   "outputs": [],
   "source": [
    "pd.set_option('display.float_format', lambda x:'%f'%x)"
   ]
  }
 ],
 "metadata": {
  "kernelspec": {
   "display_name": "Python 3",
   "language": "python",
   "name": "python3"
  },
  "language_info": {
   "codemirror_mode": {
    "name": "ipython",
    "version": 3
   },
   "file_extension": ".py",
   "mimetype": "text/x-python",
   "name": "python",
   "nbconvert_exporter": "python",
   "pygments_lexer": "ipython3",
   "version": "3.7.1"
  }
 },
 "nbformat": 4,
 "nbformat_minor": 2
}
