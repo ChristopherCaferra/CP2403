{
 "cells": [
  {
   "cell_type": "markdown",
   "metadata": {},
   "source": [
    "# First Name: Christopher\n",
    "# Last Name: Caferra"
   ]
  },
  {
   "cell_type": "code",
   "execution_count": 1,
   "metadata": {},
   "outputs": [],
   "source": [
    "import pandas as pd\n",
    "import numpy as np"
   ]
  },
  {
   "cell_type": "code",
   "execution_count": 2,
   "metadata": {},
   "outputs": [],
   "source": [
    "nesarc = pd.read_csv('nesarc.csv', low_memory=False)\n",
    "pd.set_option('display.float_format', lambda x:'%f'%x)"
   ]
  },
  {
   "cell_type": "markdown",
   "metadata": {},
   "source": [
    "# Coding valid data"
   ]
  },
  {
   "cell_type": "code",
   "execution_count": 3,
   "metadata": {},
   "outputs": [
    {
     "data": {
      "text/plain": [
       "0         nan\n",
       "1         nan\n",
       "2         nan\n",
       "3         nan\n",
       "4         nan\n",
       "5         nan\n",
       "6         nan\n",
       "7         nan\n",
       "8         nan\n",
       "9         nan\n",
       "10   1.000000\n",
       "11   2.000000\n",
       "12        nan\n",
       "13   1.000000\n",
       "14   1.000000\n",
       "15        nan\n",
       "16   2.000000\n",
       "17   1.000000\n",
       "18   1.000000\n",
       "19        nan\n",
       "20   1.000000\n",
       "21        nan\n",
       "22   1.000000\n",
       "23        nan\n",
       "24        nan\n",
       "Name: CHECK321, dtype: float64"
      ]
     },
     "execution_count": 3,
     "metadata": {},
     "output_type": "execute_result"
    }
   ],
   "source": [
    "nesarc['CHECK321'] = pd.to_numeric(nesarc['CHECK321'], errors='coerce') #convert smoking status to numeric\n",
    "nesarc['CHECK321'].head(25) #print the first 25"
   ]
  },
  {
   "cell_type": "code",
   "execution_count": 4,
   "metadata": {},
   "outputs": [
    {
     "data": {
      "text/plain": [
       "0    11.000000\n",
       "1    11.000000\n",
       "2    11.000000\n",
       "3    11.000000\n",
       "4    11.000000\n",
       "5    11.000000\n",
       "6    11.000000\n",
       "7    11.000000\n",
       "8    11.000000\n",
       "9    11.000000\n",
       "10    1.000000\n",
       "11    2.000000\n",
       "12   11.000000\n",
       "13    1.000000\n",
       "14    1.000000\n",
       "15   11.000000\n",
       "16    2.000000\n",
       "17    1.000000\n",
       "18    1.000000\n",
       "19   11.000000\n",
       "20    1.000000\n",
       "21   11.000000\n",
       "22    1.000000\n",
       "23   11.000000\n",
       "24   11.000000\n",
       "Name: CHECK321, dtype: float64"
      ]
     },
     "execution_count": 4,
     "metadata": {},
     "output_type": "execute_result"
    }
   ],
   "source": [
    "nesarc['CHECK321'].fillna(11, inplace=True) #fill in nan value with 11\n",
    "nesarc['CHECK321'].head(25)"
   ]
  },
  {
   "cell_type": "markdown",
   "metadata": {},
   "source": [
    "# Managing missing data"
   ]
  },
  {
   "cell_type": "code",
   "execution_count": 5,
   "metadata": {},
   "outputs": [
    {
     "data": {
      "text/plain": [
       "0   nan\n",
       "1   nan\n",
       "2   nan\n",
       "3   nan\n",
       "4   nan\n",
       "Name: S3AQ3B1, dtype: float64"
      ]
     },
     "execution_count": 5,
     "metadata": {},
     "output_type": "execute_result"
    }
   ],
   "source": [
    "nesarc['S3AQ3B1'] = pd.to_numeric(nesarc['S3AQ3B1'],errors='coerce') #convert variable to numeric\n",
    "nesarc['S3AQ3B1'].head()\n",
    "#len(nesarc)"
   ]
  },
  {
   "cell_type": "code",
   "execution_count": 6,
   "metadata": {},
   "outputs": [
    {
     "data": {
      "text/html": [
       "<div>\n",
       "<style scoped>\n",
       "    .dataframe tbody tr th:only-of-type {\n",
       "        vertical-align: middle;\n",
       "    }\n",
       "\n",
       "    .dataframe tbody tr th {\n",
       "        vertical-align: top;\n",
       "    }\n",
       "\n",
       "    .dataframe thead th {\n",
       "        text-align: right;\n",
       "    }\n",
       "</style>\n",
       "<table border=\"1\" class=\"dataframe\">\n",
       "  <thead>\n",
       "    <tr style=\"text-align: right;\">\n",
       "      <th></th>\n",
       "      <th>S3BQ1A1</th>\n",
       "      <th>ETHRACE2A</th>\n",
       "      <th>ETOTLCA2</th>\n",
       "      <th>IDNUM</th>\n",
       "      <th>PSU</th>\n",
       "      <th>STRATUM</th>\n",
       "      <th>WEIGHT</th>\n",
       "      <th>CDAY</th>\n",
       "      <th>CMON</th>\n",
       "      <th>CYEAR</th>\n",
       "      <th>...</th>\n",
       "      <th>SOLP12ABDEP</th>\n",
       "      <th>HAL12ABDEP</th>\n",
       "      <th>HALP12ABDEP</th>\n",
       "      <th>MAR12ABDEP</th>\n",
       "      <th>MARP12ABDEP</th>\n",
       "      <th>HER12ABDEP</th>\n",
       "      <th>HERP12ABDEP</th>\n",
       "      <th>OTHB12ABDEP</th>\n",
       "      <th>OTHBP12ABDEP</th>\n",
       "      <th>NDSymptoms</th>\n",
       "    </tr>\n",
       "  </thead>\n",
       "  <tbody>\n",
       "    <tr>\n",
       "      <th>20</th>\n",
       "      <td>20</td>\n",
       "      <td>2</td>\n",
       "      <td>0.0099</td>\n",
       "      <td>21</td>\n",
       "      <td>36094</td>\n",
       "      <td>3616</td>\n",
       "      <td>1528.354757</td>\n",
       "      <td>2</td>\n",
       "      <td>11</td>\n",
       "      <td>2001</td>\n",
       "      <td>...</td>\n",
       "      <td>0</td>\n",
       "      <td>0</td>\n",
       "      <td>0</td>\n",
       "      <td>0</td>\n",
       "      <td>0</td>\n",
       "      <td>0</td>\n",
       "      <td>0</td>\n",
       "      <td>0</td>\n",
       "      <td>0</td>\n",
       "      <td>2.000000</td>\n",
       "    </tr>\n",
       "    <tr>\n",
       "      <th>76</th>\n",
       "      <td>76</td>\n",
       "      <td>5</td>\n",
       "      <td>0.2643</td>\n",
       "      <td>77</td>\n",
       "      <td>36094</td>\n",
       "      <td>3616</td>\n",
       "      <td>6172.249980</td>\n",
       "      <td>13</td>\n",
       "      <td>3</td>\n",
       "      <td>2002</td>\n",
       "      <td>...</td>\n",
       "      <td>0</td>\n",
       "      <td>0</td>\n",
       "      <td>0</td>\n",
       "      <td>0</td>\n",
       "      <td>0</td>\n",
       "      <td>0</td>\n",
       "      <td>0</td>\n",
       "      <td>0</td>\n",
       "      <td>0</td>\n",
       "      <td>nan</td>\n",
       "    </tr>\n",
       "    <tr>\n",
       "      <th>102</th>\n",
       "      <td>102</td>\n",
       "      <td>1</td>\n",
       "      <td>0.985</td>\n",
       "      <td>103</td>\n",
       "      <td>41097</td>\n",
       "      <td>4107</td>\n",
       "      <td>5515.974591</td>\n",
       "      <td>27</td>\n",
       "      <td>10</td>\n",
       "      <td>2001</td>\n",
       "      <td>...</td>\n",
       "      <td>0</td>\n",
       "      <td>0</td>\n",
       "      <td>1</td>\n",
       "      <td>0</td>\n",
       "      <td>1</td>\n",
       "      <td>0</td>\n",
       "      <td>0</td>\n",
       "      <td>0</td>\n",
       "      <td>0</td>\n",
       "      <td>3.000000</td>\n",
       "    </tr>\n",
       "    <tr>\n",
       "      <th>121</th>\n",
       "      <td>121</td>\n",
       "      <td>1</td>\n",
       "      <td>0.8888</td>\n",
       "      <td>122</td>\n",
       "      <td>31098</td>\n",
       "      <td>3109</td>\n",
       "      <td>4152.434010</td>\n",
       "      <td>23</td>\n",
       "      <td>9</td>\n",
       "      <td>2001</td>\n",
       "      <td>...</td>\n",
       "      <td>0</td>\n",
       "      <td>0</td>\n",
       "      <td>0</td>\n",
       "      <td>0</td>\n",
       "      <td>0</td>\n",
       "      <td>0</td>\n",
       "      <td>0</td>\n",
       "      <td>0</td>\n",
       "      <td>0</td>\n",
       "      <td>3.000000</td>\n",
       "    </tr>\n",
       "    <tr>\n",
       "      <th>135</th>\n",
       "      <td>135</td>\n",
       "      <td>1</td>\n",
       "      <td>0.017</td>\n",
       "      <td>136</td>\n",
       "      <td>12042</td>\n",
       "      <td>1218</td>\n",
       "      <td>8657.814391</td>\n",
       "      <td>11</td>\n",
       "      <td>12</td>\n",
       "      <td>2001</td>\n",
       "      <td>...</td>\n",
       "      <td>0</td>\n",
       "      <td>0</td>\n",
       "      <td>0</td>\n",
       "      <td>0</td>\n",
       "      <td>1</td>\n",
       "      <td>0</td>\n",
       "      <td>0</td>\n",
       "      <td>0</td>\n",
       "      <td>0</td>\n",
       "      <td>0.000000</td>\n",
       "    </tr>\n",
       "  </tbody>\n",
       "</table>\n",
       "<p>5 rows × 760 columns</p>\n",
       "</div>"
      ],
      "text/plain": [
       "     S3BQ1A1  ETHRACE2A ETOTLCA2  IDNUM    PSU  STRATUM      WEIGHT  CDAY  \\\n",
       "20        20          2   0.0099     21  36094     3616 1528.354757     2   \n",
       "76        76          5   0.2643     77  36094     3616 6172.249980    13   \n",
       "102      102          1    0.985    103  41097     4107 5515.974591    27   \n",
       "121      121          1   0.8888    122  31098     3109 4152.434010    23   \n",
       "135      135          1    0.017    136  12042     1218 8657.814391    11   \n",
       "\n",
       "     CMON  CYEAR     ...      SOLP12ABDEP  HAL12ABDEP  HALP12ABDEP  \\\n",
       "20     11   2001     ...                0           0            0   \n",
       "76      3   2002     ...                0           0            0   \n",
       "102    10   2001     ...                0           0            1   \n",
       "121     9   2001     ...                0           0            0   \n",
       "135    12   2001     ...                0           0            0   \n",
       "\n",
       "     MAR12ABDEP  MARP12ABDEP  HER12ABDEP  HERP12ABDEP  OTHB12ABDEP  \\\n",
       "20            0            0           0            0            0   \n",
       "76            0            0           0            0            0   \n",
       "102           0            1           0            0            0   \n",
       "121           0            0           0            0            0   \n",
       "135           0            1           0            0            0   \n",
       "\n",
       "     OTHBP12ABDEP  NDSymptoms  \n",
       "20              0    2.000000  \n",
       "76              0         nan  \n",
       "102             0    3.000000  \n",
       "121             0    3.000000  \n",
       "135             0    0.000000  \n",
       "\n",
       "[5 rows x 760 columns]"
      ]
     },
     "execution_count": 6,
     "metadata": {},
     "output_type": "execute_result"
    }
   ],
   "source": [
    "#subset data to young adults age 18 to 25 who have smoked in the past 12 months\n",
    "sub1=nesarc[(nesarc['AGE']>=18) & (nesarc['AGE']<=25) & (nesarc['CHECK321']==1)]\n",
    "sub1.head()"
   ]
  },
  {
   "cell_type": "code",
   "execution_count": 7,
   "metadata": {},
   "outputs": [
    {
     "data": {
      "text/plain": [
       "1706"
      ]
     },
     "execution_count": 7,
     "metadata": {},
     "output_type": "execute_result"
    }
   ],
   "source": [
    "sub2 = sub1.copy()\n",
    "sub2.head()\n",
    "len(sub2)"
   ]
  },
  {
   "cell_type": "code",
   "execution_count": 8,
   "metadata": {},
   "outputs": [
    {
     "name": "stdout",
     "output_type": "stream",
     "text": [
      "counts for original S3AQ3B1\n",
      "1.000000    1320\n",
      "2.000000      68\n",
      "4.000000      88\n",
      "3.000000      91\n",
      "5.000000      65\n",
      "6.000000      71\n",
      "9.000000       3\n",
      "Name: S3AQ3B1, dtype: int64\n"
     ]
    }
   ],
   "source": [
    "c_cig_feq = sub2['S3AQ3B1'].value_counts(sort=False, dropna=False)\n",
    "print ('counts for original S3AQ3B1')\n",
    "print(c_cig_feq)"
   ]
  },
  {
   "cell_type": "code",
   "execution_count": 9,
   "metadata": {},
   "outputs": [],
   "source": [
    "sub2['S3AQ3B1']=sub2['S3AQ3B1'].replace(9, np.nan)"
   ]
  },
  {
   "cell_type": "code",
   "execution_count": 10,
   "metadata": {},
   "outputs": [
    {
     "name": "stdout",
     "output_type": "stream",
     "text": [
      "counts for S3AQ3B1 with 9 set to NAN and number of missing requested\n",
      "1.000000    1320\n",
      "2.000000      68\n",
      "4.000000      88\n",
      "3.000000      91\n",
      "5.000000      65\n",
      "6.000000      71\n",
      "Name: S3AQ3B1, dtype: int64\n"
     ]
    }
   ],
   "source": [
    "c_cig_feq_nan = sub2['S3AQ3B1'].value_counts(sort=False)\n",
    "print ('counts for S3AQ3B1 with 9 set to NAN and number of missing requested')\n",
    "print(c_cig_feq_nan)"
   ]
  },
  {
   "cell_type": "code",
   "execution_count": 11,
   "metadata": {},
   "outputs": [
    {
     "name": "stdout",
     "output_type": "stream",
     "text": [
      "counts for S3AQ3C1\n",
      "3.000000     114\n",
      "10.000000    387\n",
      "20.000000    365\n",
      "5.000000     163\n",
      "8.000000      42\n",
      "1.000000      83\n",
      "2.000000     111\n",
      "98.000000      1\n",
      "30.000000     38\n",
      "4.000000      84\n",
      "12.000000     25\n",
      "6.000000      60\n",
      "13.000000      7\n",
      "7.000000      45\n",
      "15.000000     99\n",
      "40.000000     30\n",
      "14.000000      3\n",
      "11.000000      3\n",
      "60.000000      2\n",
      "17.000000      2\n",
      "25.000000     13\n",
      "16.000000      5\n",
      "27.000000      1\n",
      "80.000000      1\n",
      "9.000000       6\n",
      "35.000000      1\n",
      "24.000000      1\n",
      "19.000000      1\n",
      "18.000000      3\n",
      "28.000000      1\n",
      "99.000000      9\n",
      "Name: S3AQ3C1, dtype: int64\n"
     ]
    }
   ],
   "source": [
    "c_cig_quan = sub2['S3AQ3C1'].value_counts(sort=False,dropna=False)\n",
    "print ('counts for S3AQ3C1') \n",
    "print(c_cig_quan)"
   ]
  },
  {
   "cell_type": "code",
   "execution_count": 12,
   "metadata": {},
   "outputs": [
    {
     "name": "stdout",
     "output_type": "stream",
     "text": [
      "counts for S3AQ3C1 with 99 set to NAN\n",
      "3.000000     114\n",
      "10.000000    387\n",
      "20.000000    365\n",
      "5.000000     163\n",
      "8.000000      42\n",
      "1.000000      83\n",
      "2.000000     111\n",
      "98.000000      1\n",
      "30.000000     38\n",
      "4.000000      84\n",
      "12.000000     25\n",
      "6.000000      60\n",
      "13.000000      7\n",
      "7.000000      45\n",
      "15.000000     99\n",
      "40.000000     30\n",
      "14.000000      3\n",
      "11.000000      3\n",
      "60.000000      2\n",
      "17.000000      2\n",
      "25.000000     13\n",
      "16.000000      5\n",
      "27.000000      1\n",
      "80.000000      1\n",
      "9.000000       6\n",
      "35.000000      1\n",
      "24.000000      1\n",
      "19.000000      1\n",
      "18.000000      3\n",
      "28.000000      1\n",
      "Name: S3AQ3C1, dtype: int64\n"
     ]
    }
   ],
   "source": [
    "sub2['S3AQ3C1']=sub2['S3AQ3C1'].replace(99, np.nan)\n",
    "c_cig_quan_nan = sub2['S3AQ3C1'].value_counts(sort=False)\n",
    "print ('counts for S3AQ3C1 with 99 set to NAN')\n",
    "print(c_cig_quan_nan)"
   ]
  },
  {
   "cell_type": "markdown",
   "metadata": {},
   "source": [
    "# Recoding values"
   ]
  },
  {
   "cell_type": "code",
   "execution_count": 13,
   "metadata": {
    "scrolled": true
   },
   "outputs": [
    {
     "name": "stdout",
     "output_type": "stream",
     "text": [
      "counts for S3AQ3B1\n",
      "1.000000    1320\n",
      "2.000000      68\n",
      "4.000000      88\n",
      "3.000000      91\n",
      "5.000000      65\n",
      "6.000000      71\n",
      "Name: S3AQ3B1, dtype: int64\n"
     ]
    }
   ],
   "source": [
    "c_cig_feq = sub2['S3AQ3B1'].value_counts(sort=False) #get count in each category\n",
    "print ('counts for S3AQ3B1')\n",
    "print(c_cig_feq)"
   ]
  },
  {
   "cell_type": "code",
   "execution_count": 14,
   "metadata": {},
   "outputs": [
    {
     "name": "stdout",
     "output_type": "stream",
     "text": [
      "counts for USFREQ\n",
      "6.000000    1320\n",
      "5.000000      68\n",
      "3.000000      88\n",
      "4.000000      91\n",
      "2.000000      65\n",
      "1.000000      71\n",
      "Name: USFREQ, dtype: int64\n"
     ]
    }
   ],
   "source": [
    "recode1 = {1: 6, 2: 5, 3: 4, 4: 3, 5: 2, 6: 1} #recoding so that higher numbers mean more smoking frequency\n",
    "sub2['USFREQ'] = sub2['S3AQ3B1'].map(recode1)\n",
    "\n",
    "recode_cig_feq = sub2['USFREQ'].value_counts(sort=False) #get count in each category\n",
    "print ('counts for USFREQ')\n",
    "print(recode_cig_feq)"
   ]
  },
  {
   "cell_type": "code",
   "execution_count": 15,
   "metadata": {},
   "outputs": [
    {
     "name": "stdout",
     "output_type": "stream",
     "text": [
      "counts for USFREQMO\n",
      "30.000000    1320\n",
      "22.000000      68\n",
      "5.000000       88\n",
      "14.000000      91\n",
      "2.500000       65\n",
      "1.000000       71\n",
      "Name: USFREQMO, dtype: int64\n"
     ]
    }
   ],
   "source": [
    "#recoding values for S3AQ3B1 into a new variable, USFREQMO\n",
    "recode2 = {1:30, 2:22, 3:14, 4:5, 5:2.5, 6:1} #recode to quantitative variable\n",
    "sub2['USFREQMO']= sub2['S3AQ3B1'].map(recode2)\n",
    "\n",
    "recode_cig_feq_m = sub2['USFREQMO'].value_counts(sort=False) #get count in each category\n",
    "print ('counts for USFREQMO')\n",
    "print(recode_cig_feq_m)"
   ]
  },
  {
   "cell_type": "markdown",
   "metadata": {},
   "source": [
    "# Creating secondary variable"
   ]
  },
  {
   "cell_type": "code",
   "execution_count": 16,
   "metadata": {},
   "outputs": [
    {
     "data": {
      "text/plain": [
       "20     90.000000\n",
       "76     66.000000\n",
       "102   300.000000\n",
       "121   300.000000\n",
       "135   600.000000\n",
       "Name: NUMCIGMO_EST, dtype: float64"
      ]
     },
     "execution_count": 16,
     "metadata": {},
     "output_type": "execute_result"
    }
   ],
   "source": [
    "#secondary variable multiplying the number of days smoked/month and the approx number of cig smoked/day\n",
    "sub2['NUMCIGMO_EST']=sub2['USFREQMO'] * sub2['S3AQ3C1'] #get the number of cigarettes smoked per month\n",
    "sub2['NUMCIGMO_EST'].head()"
   ]
  },
  {
   "cell_type": "markdown",
   "metadata": {},
   "source": [
    "# Grouping values within individual variables"
   ]
  },
  {
   "cell_type": "code",
   "execution_count": 17,
   "metadata": {},
   "outputs": [
    {
     "name": "stdout",
     "output_type": "stream",
     "text": [
      "counts for AGE\n",
      "18    161\n",
      "19    200\n",
      "20    221\n",
      "21    239\n",
      "22    228\n",
      "23    231\n",
      "24    241\n",
      "25    185\n",
      "Name: AGE, dtype: int64\n"
     ]
    }
   ],
   "source": [
    "#examining frequency distributions for age\n",
    "c_age = sub2['AGE'].value_counts(sort=False)\n",
    "print ('counts for AGE')\n",
    "print(c_age)"
   ]
  },
  {
   "cell_type": "code",
   "execution_count": 18,
   "metadata": {},
   "outputs": [
    {
     "name": "stdout",
     "output_type": "stream",
     "text": [
      "percentages for AGE\n",
      "18   0.094373\n",
      "19   0.117233\n",
      "20   0.129543\n",
      "21   0.140094\n",
      "22   0.133646\n",
      "23   0.135404\n",
      "24   0.141266\n",
      "25   0.108441\n",
      "Name: AGE, dtype: float64\n"
     ]
    }
   ],
   "source": [
    "p_age = sub2['AGE'].value_counts(sort=False, normalize=True)\n",
    "print ('percentages for AGE')\n",
    "print (p_age)"
   ]
  },
  {
   "cell_type": "code",
   "execution_count": 19,
   "metadata": {},
   "outputs": [
    {
     "name": "stdout",
     "output_type": "stream",
     "text": [
      "counts for AGEGROUP3\n",
      "(17, 20]    582\n",
      "(20, 22]    467\n",
      "(22, 25]    657\n",
      "Name: AGEGROUP3, dtype: int64\n",
      "percentages for AGEGROUP3\n",
      "(17, 20]   0.341149\n",
      "(20, 22]   0.273740\n",
      "(22, 25]   0.385111\n",
      "Name: AGEGROUP3, dtype: float64\n"
     ]
    }
   ],
   "source": [
    "# categorize quantitative variable based on customized splits using cut function\n",
    "# splits into 3 groups (18-20, 21-22, 23-25) - remember that Python starts counting from 0, not 1\n",
    "sub2['AGEGROUP3'] = pd.cut(sub2.AGE, [17, 20, 22, 25])\n",
    "c_age_group = sub2['AGEGROUP3'].value_counts(sort=False, dropna=True)\n",
    "print('counts for AGEGROUP3')\n",
    "print(c_age_group)\n",
    "\n",
    "print('percentages for AGEGROUP3')\n",
    "p_age_group = sub2['AGEGROUP3'].value_counts(sort=False, normalize=True)\n",
    "print(p_age_group)"
   ]
  },
  {
   "cell_type": "code",
   "execution_count": 20,
   "metadata": {},
   "outputs": [
    {
     "name": "stdout",
     "output_type": "stream",
     "text": [
      "AGE         18   19   20   21   22   23   24   25\n",
      "AGEGROUP3                                        \n",
      "(17, 20]   161  200  221    0    0    0    0    0\n",
      "(20, 22]     0    0    0  239  228    0    0    0\n",
      "(22, 25]     0    0    0    0    0  231  241  185\n"
     ]
    }
   ],
   "source": [
    "#crosstabs evaluating which ages were put into which AGEGROUP3\n",
    "print (pd.crosstab(sub2['AGEGROUP3'], sub2['AGE']))"
   ]
  }
 ],
 "metadata": {
  "kernelspec": {
   "display_name": "Python 3",
   "language": "python",
   "name": "python3"
  },
  "language_info": {
   "codemirror_mode": {
    "name": "ipython",
    "version": 3
   },
   "file_extension": ".py",
   "mimetype": "text/x-python",
   "name": "python",
   "nbconvert_exporter": "python",
   "pygments_lexer": "ipython3",
   "version": "3.7.1"
  }
 },
 "nbformat": 4,
 "nbformat_minor": 2
}
