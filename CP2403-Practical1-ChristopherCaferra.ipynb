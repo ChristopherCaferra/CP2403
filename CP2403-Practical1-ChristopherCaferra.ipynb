{
 "cells": [
  {
   "cell_type": "markdown",
   "metadata": {},
   "source": [
    "# First Name: Christopher\n",
    "# Last Name: Caferra"
   ]
  },
  {
   "cell_type": "markdown",
   "metadata": {},
   "source": [
    "# Importing libraries"
   ]
  },
  {
   "cell_type": "code",
   "execution_count": 1,
   "metadata": {},
   "outputs": [],
   "source": [
    "#import pandas & numpy\n",
    "import pandas as pd\n",
    "import numpy as np"
   ]
  },
  {
   "cell_type": "markdown",
   "metadata": {},
   "source": [
    "# 1. Read in the nesarc.csv file"
   ]
  },
  {
   "cell_type": "code",
   "execution_count": 2,
   "metadata": {},
   "outputs": [],
   "source": [
    "#read in csv file into \n",
    "nesarc = pd.read_csv('nesarc.csv', low_memory=False) #increase efficiency"
   ]
  },
  {
   "cell_type": "markdown",
   "metadata": {},
   "source": [
    "# 2. Print the number of rows, columns in nesarc "
   ]
  },
  {
   "cell_type": "code",
   "execution_count": 3,
   "metadata": {},
   "outputs": [
    {
     "name": "stdout",
     "output_type": "stream",
     "text": [
      "43093\n",
      "760\n"
     ]
    }
   ],
   "source": [
    "print (len(nesarc)) #number of rows (observations)\n",
    "print (len(nesarc.columns)) # number of columns (variables)"
   ]
  },
  {
   "cell_type": "markdown",
   "metadata": {},
   "source": [
    "# Printing the first 5 rows of nesarc"
   ]
  },
  {
   "cell_type": "code",
   "execution_count": 4,
   "metadata": {},
   "outputs": [
    {
     "data": {
      "text/html": [
       "<div>\n",
       "<style scoped>\n",
       "    .dataframe tbody tr th:only-of-type {\n",
       "        vertical-align: middle;\n",
       "    }\n",
       "\n",
       "    .dataframe tbody tr th {\n",
       "        vertical-align: top;\n",
       "    }\n",
       "\n",
       "    .dataframe thead th {\n",
       "        text-align: right;\n",
       "    }\n",
       "</style>\n",
       "<table border=\"1\" class=\"dataframe\">\n",
       "  <thead>\n",
       "    <tr style=\"text-align: right;\">\n",
       "      <th></th>\n",
       "      <th>S3BQ1A1</th>\n",
       "      <th>ETHRACE2A</th>\n",
       "      <th>ETOTLCA2</th>\n",
       "      <th>IDNUM</th>\n",
       "      <th>PSU</th>\n",
       "      <th>STRATUM</th>\n",
       "      <th>WEIGHT</th>\n",
       "      <th>CDAY</th>\n",
       "      <th>CMON</th>\n",
       "      <th>CYEAR</th>\n",
       "      <th>...</th>\n",
       "      <th>SOLP12ABDEP</th>\n",
       "      <th>HAL12ABDEP</th>\n",
       "      <th>HALP12ABDEP</th>\n",
       "      <th>MAR12ABDEP</th>\n",
       "      <th>MARP12ABDEP</th>\n",
       "      <th>HER12ABDEP</th>\n",
       "      <th>HERP12ABDEP</th>\n",
       "      <th>OTHB12ABDEP</th>\n",
       "      <th>OTHBP12ABDEP</th>\n",
       "      <th>NDSymptoms</th>\n",
       "    </tr>\n",
       "  </thead>\n",
       "  <tbody>\n",
       "    <tr>\n",
       "      <th>0</th>\n",
       "      <td>0</td>\n",
       "      <td>5</td>\n",
       "      <td></td>\n",
       "      <td>1</td>\n",
       "      <td>4007</td>\n",
       "      <td>403</td>\n",
       "      <td>3928.613505</td>\n",
       "      <td>14</td>\n",
       "      <td>8</td>\n",
       "      <td>2001</td>\n",
       "      <td>...</td>\n",
       "      <td>0</td>\n",
       "      <td>0</td>\n",
       "      <td>0</td>\n",
       "      <td>0</td>\n",
       "      <td>0</td>\n",
       "      <td>0</td>\n",
       "      <td>0</td>\n",
       "      <td>0</td>\n",
       "      <td>0</td>\n",
       "      <td>NaN</td>\n",
       "    </tr>\n",
       "    <tr>\n",
       "      <th>1</th>\n",
       "      <td>1</td>\n",
       "      <td>5</td>\n",
       "      <td>0.0014</td>\n",
       "      <td>2</td>\n",
       "      <td>6045</td>\n",
       "      <td>604</td>\n",
       "      <td>3638.691845</td>\n",
       "      <td>12</td>\n",
       "      <td>1</td>\n",
       "      <td>2002</td>\n",
       "      <td>...</td>\n",
       "      <td>0</td>\n",
       "      <td>0</td>\n",
       "      <td>0</td>\n",
       "      <td>0</td>\n",
       "      <td>0</td>\n",
       "      <td>0</td>\n",
       "      <td>0</td>\n",
       "      <td>0</td>\n",
       "      <td>0</td>\n",
       "      <td>NaN</td>\n",
       "    </tr>\n",
       "    <tr>\n",
       "      <th>2</th>\n",
       "      <td>2</td>\n",
       "      <td>5</td>\n",
       "      <td></td>\n",
       "      <td>3</td>\n",
       "      <td>12042</td>\n",
       "      <td>1218</td>\n",
       "      <td>5779.032025</td>\n",
       "      <td>23</td>\n",
       "      <td>11</td>\n",
       "      <td>2001</td>\n",
       "      <td>...</td>\n",
       "      <td>0</td>\n",
       "      <td>0</td>\n",
       "      <td>0</td>\n",
       "      <td>0</td>\n",
       "      <td>0</td>\n",
       "      <td>0</td>\n",
       "      <td>0</td>\n",
       "      <td>0</td>\n",
       "      <td>0</td>\n",
       "      <td>NaN</td>\n",
       "    </tr>\n",
       "    <tr>\n",
       "      <th>3</th>\n",
       "      <td>3</td>\n",
       "      <td>5</td>\n",
       "      <td></td>\n",
       "      <td>4</td>\n",
       "      <td>17099</td>\n",
       "      <td>1704</td>\n",
       "      <td>1071.754303</td>\n",
       "      <td>9</td>\n",
       "      <td>9</td>\n",
       "      <td>2001</td>\n",
       "      <td>...</td>\n",
       "      <td>0</td>\n",
       "      <td>0</td>\n",
       "      <td>0</td>\n",
       "      <td>0</td>\n",
       "      <td>0</td>\n",
       "      <td>0</td>\n",
       "      <td>0</td>\n",
       "      <td>0</td>\n",
       "      <td>0</td>\n",
       "      <td>NaN</td>\n",
       "    </tr>\n",
       "    <tr>\n",
       "      <th>4</th>\n",
       "      <td>4</td>\n",
       "      <td>2</td>\n",
       "      <td></td>\n",
       "      <td>5</td>\n",
       "      <td>17099</td>\n",
       "      <td>1704</td>\n",
       "      <td>4986.952377</td>\n",
       "      <td>18</td>\n",
       "      <td>10</td>\n",
       "      <td>2001</td>\n",
       "      <td>...</td>\n",
       "      <td>0</td>\n",
       "      <td>0</td>\n",
       "      <td>0</td>\n",
       "      <td>0</td>\n",
       "      <td>0</td>\n",
       "      <td>0</td>\n",
       "      <td>0</td>\n",
       "      <td>0</td>\n",
       "      <td>0</td>\n",
       "      <td>NaN</td>\n",
       "    </tr>\n",
       "  </tbody>\n",
       "</table>\n",
       "<p>5 rows × 760 columns</p>\n",
       "</div>"
      ],
      "text/plain": [
       "   S3BQ1A1  ETHRACE2A ETOTLCA2  IDNUM    PSU  STRATUM       WEIGHT  CDAY  \\\n",
       "0        0          5               1   4007      403  3928.613505    14   \n",
       "1        1          5   0.0014      2   6045      604  3638.691845    12   \n",
       "2        2          5               3  12042     1218  5779.032025    23   \n",
       "3        3          5               4  17099     1704  1071.754303     9   \n",
       "4        4          2               5  17099     1704  4986.952377    18   \n",
       "\n",
       "   CMON  CYEAR     ...      SOLP12ABDEP  HAL12ABDEP  HALP12ABDEP  MAR12ABDEP  \\\n",
       "0     8   2001     ...                0           0            0           0   \n",
       "1     1   2002     ...                0           0            0           0   \n",
       "2    11   2001     ...                0           0            0           0   \n",
       "3     9   2001     ...                0           0            0           0   \n",
       "4    10   2001     ...                0           0            0           0   \n",
       "\n",
       "   MARP12ABDEP  HER12ABDEP  HERP12ABDEP  OTHB12ABDEP  OTHBP12ABDEP  NDSymptoms  \n",
       "0            0           0            0            0             0         NaN  \n",
       "1            0           0            0            0             0         NaN  \n",
       "2            0           0            0            0             0         NaN  \n",
       "3            0           0            0            0             0         NaN  \n",
       "4            0           0            0            0             0         NaN  \n",
       "\n",
       "[5 rows x 760 columns]"
      ]
     },
     "execution_count": 4,
     "metadata": {},
     "output_type": "execute_result"
    }
   ],
   "source": [
    "nesarc.head()  #print the first five rows"
   ]
  },
  {
   "cell_type": "markdown",
   "metadata": {},
   "source": [
    "# Convert Alcohol effects - 12 months (S2BQ1B1) to numeric & print first 10 rows"
   ]
  },
  {
   "cell_type": "code",
   "execution_count": 5,
   "metadata": {},
   "outputs": [
    {
     "data": {
      "text/plain": [
       "0    NaN\n",
       "1    2.0\n",
       "2    NaN\n",
       "3    NaN\n",
       "4    NaN\n",
       "5    2.0\n",
       "6    2.0\n",
       "7    2.0\n",
       "8    2.0\n",
       "9    1.0\n",
       "Name: S2BQ1B1, dtype: float64"
      ]
     },
     "execution_count": 5,
     "metadata": {},
     "output_type": "execute_result"
    }
   ],
   "source": [
    "#Read in Alcohol effects - 12 months (S2BQ1B1)\n",
    "nesarc['S2BQ1B1'] = pd.to_numeric(nesarc['S2BQ1B1'],errors='coerce') #convert variable to numeric\n",
    "nesarc['S2BQ1B1'].head(10)  #print the first 10 rows"
   ]
  },
  {
   "cell_type": "markdown",
   "metadata": {},
   "source": [
    "# Print the count and percentage of  Alcohol effects - 12 months (S2BQ1B1)"
   ]
  },
  {
   "cell_type": "code",
   "execution_count": 6,
   "metadata": {},
   "outputs": [
    {
     "name": "stdout",
     "output_type": "stream",
     "text": [
      "counts for S2BQ1B1 alcohol effect in the past 12 months, yes=1\n",
      "2.0    25309\n",
      "1.0     1326\n",
      "9.0      311\n",
      "Name: S2BQ1B1, dtype: int64\n",
      "percentages for S2BQ1B1 alcohol effect in the past 12 months, yes=1\n",
      "2.0    0.939249\n",
      "1.0    0.049210\n",
      "9.0    0.011542\n",
      "Name: S2BQ1B1, dtype: float64\n"
     ]
    }
   ],
   "source": [
    "#calculate counts for Alcohol effects - 12 months (S2BQ1B1) \n",
    "print ('counts for S2BQ1B1 alcohol effect in the past 12 months, yes=1') #better titles\n",
    "c_al_dep = nesarc['S2BQ1B1'].value_counts(sort=False) #sort by values (not count)\n",
    "print (c_al_dep)\n",
    "\n",
    "#calculate percentages for Alcohol effects - 12 months (S2BQ1B1)\n",
    "print ('percentages for S2BQ1B1 alcohol effect in the past 12 months, yes=1') #better titles\n",
    "p_al_dep =  nesarc['S2BQ1B1'].value_counts(sort=False,normalize=True)#normalize=True will give percentage\n",
    "print (p_al_dep)"
   ]
  },
  {
   "cell_type": "markdown",
   "metadata": {},
   "source": [
    "# Convert Beer drinking status (S2AQ5A) to numeric & print first 10 rows "
   ]
  },
  {
   "cell_type": "code",
   "execution_count": 7,
   "metadata": {},
   "outputs": [
    {
     "data": {
      "text/plain": [
       "0     NaN\n",
       "1     1.0\n",
       "2     NaN\n",
       "3     NaN\n",
       "4     NaN\n",
       "5     2.0\n",
       "6     2.0\n",
       "7     2.0\n",
       "8     1.0\n",
       "9     2.0\n",
       "10    1.0\n",
       "11    2.0\n",
       "12    1.0\n",
       "13    1.0\n",
       "14    1.0\n",
       "15    NaN\n",
       "16    1.0\n",
       "17    NaN\n",
       "18    2.0\n",
       "19    1.0\n",
       "20    2.0\n",
       "21    1.0\n",
       "22    NaN\n",
       "23    NaN\n",
       "24    1.0\n",
       "Name: S2AQ5A, dtype: float64"
      ]
     },
     "execution_count": 7,
     "metadata": {},
     "output_type": "execute_result"
    }
   ],
   "source": [
    "nesarc['S2AQ5A'] =  pd.to_numeric(nesarc['S2AQ5A'],errors='coerce')#convert smoking status to numeric\n",
    "nesarc['S2AQ5A'].head(25)  #print the first 25"
   ]
  },
  {
   "cell_type": "markdown",
   "metadata": {},
   "source": [
    "# Print the count and percentage of  Beer drinking status (S2AQ5A)"
   ]
  },
  {
   "cell_type": "code",
   "execution_count": 8,
   "metadata": {},
   "outputs": [
    {
     "name": "stdout",
     "output_type": "stream",
     "text": [
      "counts for S2AQ5A beer drinking in the past year, yes=1\n",
      "NaN     16147\n",
      " 1.0    18346\n",
      " 2.0     8562\n",
      " 9.0       38\n",
      "Name: S2AQ5A, dtype: int64\n",
      "percentages for S2AQ5A beer drinking in the past year, yes=1\n",
      "1.0    0.680843\n",
      "2.0    0.317747\n",
      "9.0    0.001410\n",
      "Name: S2AQ5A, dtype: float64\n"
     ]
    }
   ],
   "source": [
    "c_beer_status = nesarc['S2AQ5A'].value_counts(sort=False,dropna=False) #dropna=False to keep NaN in calculation\n",
    "print ('counts for S2AQ5A beer drinking in the past year, yes=1')\n",
    "print(c_beer_status)\n",
    "\n",
    "p_beer_status = nesarc['S2AQ5A'].value_counts(sort=False,normalize=True)\n",
    "print ('percentages for S2AQ5A beer drinking in the past year, yes=1')\n",
    "print (p_beer_status)"
   ]
  },
  {
   "cell_type": "markdown",
   "metadata": {},
   "source": [
    "# Convert HOW OFTEN DRANK BEER IN LAST 12 MONTHS (S2AQ5B) to numeric & print first 10 rows"
   ]
  },
  {
   "cell_type": "code",
   "execution_count": 9,
   "metadata": {},
   "outputs": [
    {
     "data": {
      "text/plain": [
       "0     NaN\n",
       "1    10.0\n",
       "2     NaN\n",
       "3     NaN\n",
       "4     NaN\n",
       "5     NaN\n",
       "6     NaN\n",
       "7     NaN\n",
       "8     9.0\n",
       "9     NaN\n",
       "Name: S2AQ5B, dtype: float64"
      ]
     },
     "execution_count": 9,
     "metadata": {},
     "output_type": "execute_result"
    }
   ],
   "source": [
    "nesarc['S2AQ5B'] = pd.to_numeric(nesarc['S2AQ5B'],errors='coerce')\n",
    "nesarc['S2AQ5B'].head(10)"
   ]
  },
  {
   "cell_type": "markdown",
   "metadata": {},
   "source": [
    "# Print the count and percentage of HOW OFTEN DRANK BEER IN LAST 12 MONTHS (S2AQ5B)"
   ]
  },
  {
   "cell_type": "code",
   "execution_count": 10,
   "metadata": {},
   "outputs": [
    {
     "name": "stdout",
     "output_type": "stream",
     "text": [
      "counts for S2AQ5B – usual frequency when drinking beer\n",
      "1.0      836\n",
      "2.0      645\n",
      "3.0     1535\n",
      "4.0     2190\n",
      "5.0     2451\n",
      "6.0     2603\n",
      "7.0     2127\n",
      "8.0     1194\n",
      "9.0     2268\n",
      "10.0    2442\n",
      "99.0      55\n",
      "Name: S2AQ5B, dtype: int64\n",
      "percentages for S2AQ5B - usual frequency when drinking beer\n",
      "1.0     0.045569\n",
      "2.0     0.035158\n",
      "3.0     0.083669\n",
      "4.0     0.119372\n",
      "5.0     0.133599\n",
      "6.0     0.141884\n",
      "7.0     0.115938\n",
      "8.0     0.065082\n",
      "9.0     0.123624\n",
      "10.0    0.133108\n",
      "99.0    0.002998\n",
      "Name: S2AQ5B, dtype: float64\n"
     ]
    }
   ],
   "source": [
    "nesarc['S2AQ5B'] = nesarc['S2AQ5B'].astype('category') #set the data type as categorical data\n",
    "\n",
    "c_beer_feq = nesarc['S2AQ5B'].value_counts(sort=False)\n",
    "print ('counts for S2AQ5B – usual frequency when drinking beer')\n",
    "print(c_beer_feq)\n",
    "\n",
    "p_beer_feq = nesarc['S2AQ5B'].value_counts(sort=False,normalize=True)\n",
    "print ('percentages for S2AQ5B - usual frequency when drinking beer')\n",
    "print (p_beer_feq)"
   ]
  },
  {
   "cell_type": "markdown",
   "metadata": {},
   "source": [
    "# Convert NUMBER OF BEERS USUALLY CONSUMED ON DAYS WHEN DRANK BEER IN LAST 12 MONTHS (S2AQ5D) to numeric & print first 10 rows"
   ]
  },
  {
   "cell_type": "code",
   "execution_count": 11,
   "metadata": {},
   "outputs": [
    {
     "data": {
      "text/plain": [
       "0    NaN\n",
       "1    1.0\n",
       "2    NaN\n",
       "3    NaN\n",
       "4    NaN\n",
       "5    NaN\n",
       "6    NaN\n",
       "7    NaN\n",
       "8    1.0\n",
       "9    NaN\n",
       "Name: S2AQ5D, dtype: float64"
      ]
     },
     "execution_count": 11,
     "metadata": {},
     "output_type": "execute_result"
    }
   ],
   "source": [
    "nesarc['S2AQ5D'] = pd.to_numeric(nesarc['S2AQ5D'],errors='coerce')\n",
    "nesarc['S2AQ5D'].head(10)"
   ]
  },
  {
   "cell_type": "markdown",
   "metadata": {},
   "source": [
    "# Print the count and percentage of NUMBER OF BEERS USUALLY CONSUMED ON DAYS WHEN DRANK BEER IN LAST 12 MONTHS (S2AQ5D)"
   ]
  },
  {
   "cell_type": "code",
   "execution_count": 12,
   "metadata": {},
   "outputs": [
    {
     "name": "stdout",
     "output_type": "stream",
     "text": [
      "counts for S2AQ5D usual quantity when drink beer\n",
      "1.0     7122\n",
      "4.0     1224\n",
      "2.0     4938\n",
      "8.0      205\n",
      "12.0     231\n",
      "16.0       1\n",
      "25.0       1\n",
      "9.0       28\n",
      "5.0      507\n",
      "18.0      18\n",
      "14.0       6\n",
      "99.0      78\n",
      "11.0       6\n",
      "36.0       1\n",
      "42.0       1\n",
      "3.0     2564\n",
      "10.0     108\n",
      "6.0     1128\n",
      "24.0      23\n",
      "17.0       4\n",
      "13.0       3\n",
      "7.0      118\n",
      "30.0       3\n",
      "20.0       7\n",
      "15.0      21\n",
      "Name: S2AQ5D, dtype: int64\n",
      "percentages for S2AQ5D usual quantity when drink beer\n",
      "1.0     0.388205\n",
      "4.0     0.066718\n",
      "2.0     0.269159\n",
      "8.0     0.011174\n",
      "12.0    0.012591\n",
      "16.0    0.000055\n",
      "25.0    0.000055\n",
      "9.0     0.001526\n",
      "5.0     0.027635\n",
      "18.0    0.000981\n",
      "14.0    0.000327\n",
      "99.0    0.004252\n",
      "11.0    0.000327\n",
      "36.0    0.000055\n",
      "42.0    0.000055\n",
      "3.0     0.139758\n",
      "10.0    0.005887\n",
      "6.0     0.061485\n",
      "24.0    0.001254\n",
      "17.0    0.000218\n",
      "13.0    0.000164\n",
      "7.0     0.006432\n",
      "30.0    0.000164\n",
      "20.0    0.000382\n",
      "15.0    0.001145\n",
      "Name: S2AQ5D, dtype: float64\n"
     ]
    }
   ],
   "source": [
    "c_beer_quan = nesarc['S2AQ5D'].value_counts(sort=False)\n",
    "print ('counts for S2AQ5D usual quantity when drink beer')\n",
    "print(c_beer_quan)\n",
    "\n",
    "p_beer_quan = nesarc['S2AQ5D'].value_counts(sort=False,normalize=True)\n",
    "print ('percentages for S2AQ5D usual quantity when drink beer')\n",
    "print (p_beer_quan)"
   ]
  },
  {
   "cell_type": "markdown",
   "metadata": {},
   "source": [
    "# Use groupby () to calculate count & percentage for Alcohol effects - 12 months (S2BQ1B1)"
   ]
  },
  {
   "cell_type": "code",
   "execution_count": 13,
   "metadata": {},
   "outputs": [
    {
     "name": "stdout",
     "output_type": "stream",
     "text": [
      "S2BQ1B1\n",
      "1.0     1326\n",
      "2.0    25309\n",
      "9.0      311\n",
      "dtype: int64\n"
     ]
    }
   ],
   "source": [
    "#count using groupby\n",
    "c_al_dep_alt = nesarc.groupby('S2BQ1B1').size()\n",
    "print(c_al_dep_alt)"
   ]
  },
  {
   "cell_type": "code",
   "execution_count": 14,
   "metadata": {},
   "outputs": [
    {
     "name": "stdout",
     "output_type": "stream",
     "text": [
      "S2BQ1B1\n",
      "1.0     3.077066\n",
      "2.0    58.731116\n",
      "9.0     0.721695\n",
      "dtype: float64\n"
     ]
    }
   ],
   "source": [
    "p_al_dep_alt = nesarc.groupby('S2BQ1B1').size()*100/len(nesarc)\n",
    "print(p_al_dep_alt)"
   ]
  },
  {
   "cell_type": "markdown",
   "metadata": {},
   "source": [
    "# Obtain a subset of nesarc data, with the following criteria\n",
    "# Age from 26 to 50\n",
    "# Beer drinking status - S2AQ5A = Y"
   ]
  },
  {
   "cell_type": "code",
   "execution_count": 15,
   "metadata": {},
   "outputs": [
    {
     "name": "stdout",
     "output_type": "stream",
     "text": [
      "counts for AGE\n",
      "28    183\n",
      "32    212\n",
      "36    219\n",
      "40    274\n",
      "44    214\n",
      "48    181\n",
      "29    201\n",
      "33    215\n",
      "37    257\n",
      "41    225\n",
      "45    259\n",
      "49    194\n",
      "26    162\n",
      "30    235\n",
      "34    212\n",
      "38    260\n",
      "42    250\n",
      "46    224\n",
      "50    186\n",
      "27    178\n",
      "31    203\n",
      "35    211\n",
      "39    223\n",
      "43    239\n",
      "47    228\n",
      "Name: AGE, dtype: int64\n",
      "percentages for AGE\n",
      "28    0.033609\n",
      "32    0.038935\n",
      "36    0.040220\n",
      "40    0.050321\n",
      "44    0.039302\n",
      "48    0.033242\n",
      "29    0.036915\n",
      "33    0.039486\n",
      "37    0.047199\n",
      "41    0.041322\n",
      "45    0.047567\n",
      "49    0.035629\n",
      "26    0.029752\n",
      "30    0.043159\n",
      "34    0.038935\n",
      "38    0.047750\n",
      "42    0.045914\n",
      "46    0.041139\n",
      "50    0.034160\n",
      "27    0.032691\n",
      "31    0.037282\n",
      "35    0.038751\n",
      "39    0.040955\n",
      "43    0.043893\n",
      "47    0.041873\n",
      "Name: AGE, dtype: float64\n"
     ]
    }
   ],
   "source": [
    "nesarc['AGE'] = pd.to_numeric(nesarc['AGE'],errors='coerce')\n",
    "\n",
    "#subset data to young adults age 26 to 50 who have drink beer in the past 12 months\n",
    "sub1 = nesarc[(nesarc['AGE']>=26) & (nesarc['AGE']<=50) & (nesarc['CHECK321']==1)]\n",
    "\n",
    "#make a copy of the new subsetted data\n",
    "sub2 = sub1.copy()\n",
    "\n",
    "c5 = sub2['AGE'].value_counts(sort=False)\n",
    "print ('counts for AGE')\n",
    "print(c5)\n",
    "\n",
    "p5 = sub2['AGE'].value_counts(sort=False, normalize=True)\n",
    "print ('percentages for AGE')\n",
    "print (p5)"
   ]
  },
  {
   "cell_type": "code",
   "execution_count": null,
   "metadata": {},
   "outputs": [],
   "source": []
  }
 ],
 "metadata": {
  "kernelspec": {
   "display_name": "Python 3",
   "language": "python",
   "name": "python3"
  },
  "language_info": {
   "codemirror_mode": {
    "name": "ipython",
    "version": 3
   },
   "file_extension": ".py",
   "mimetype": "text/x-python",
   "name": "python",
   "nbconvert_exporter": "python",
   "pygments_lexer": "ipython3",
   "version": "3.7.1"
  }
 },
 "nbformat": 4,
 "nbformat_minor": 2
}
