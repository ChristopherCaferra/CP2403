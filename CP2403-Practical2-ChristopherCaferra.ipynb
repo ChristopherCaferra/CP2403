{
 "cells": [
  {
   "cell_type": "markdown",
   "metadata": {},
   "source": [
    "# First Name: Christopher\n",
    "# Last Name: Caferra"
   ]
  },
  {
   "cell_type": "code",
   "execution_count": 1,
   "metadata": {},
   "outputs": [],
   "source": [
    "import pandas as pd\n",
    "import numpy as np"
   ]
  },
  {
   "cell_type": "code",
   "execution_count": 2,
   "metadata": {},
   "outputs": [],
   "source": [
    "nesarc = pd.read_csv('nesarc.csv', low_memory=False)\n",
    "pd.set_option('display.float_format', lambda x:'%f'%x)"
   ]
  },
  {
   "cell_type": "code",
   "execution_count": 3,
   "metadata": {},
   "outputs": [],
   "source": [
    "nesarc['S2AQ5A'] = pd.to_numeric(nesarc['S2AQ5A'], errors='coerce')\n",
    "nesarc['S2AQ5B'] = pd.to_numeric(nesarc['S2AQ5B'], errors='coerce')\n",
    "nesarc['S2AQ5D'] = pd.to_numeric(nesarc['S2AQ5D'], errors='coerce')\n"
   ]
  },
  {
   "cell_type": "markdown",
   "metadata": {},
   "source": [
    "# For Beer drinking status (S2AQ5A) fill in nan value with 11 & print first 10 rows"
   ]
  },
  {
   "cell_type": "code",
   "execution_count": 4,
   "metadata": {},
   "outputs": [
    {
     "data": {
      "text/plain": [
       "0   11.000000\n",
       "1    1.000000\n",
       "2   11.000000\n",
       "3   11.000000\n",
       "4   11.000000\n",
       "5    2.000000\n",
       "6    2.000000\n",
       "7    2.000000\n",
       "8    1.000000\n",
       "9    2.000000\n",
       "Name: S2AQ5A, dtype: float64"
      ]
     },
     "execution_count": 4,
     "metadata": {},
     "output_type": "execute_result"
    }
   ],
   "source": [
    "nesarc['S2AQ5A'].fillna(11, inplace=True)\n",
    "nesarc['S2AQ5A'].head(10)"
   ]
  },
  {
   "cell_type": "markdown",
   "metadata": {},
   "source": [
    "# For S2BQ1B1 - Effects of beer drinking (Beer Dependence) in the last 12 months replace 9 (unknown) in S2BQ1B1 (effects of beer consumtion in the last 12 months) to nan\n",
    "# & print first 10 rows"
   ]
  },
  {
   "cell_type": "code",
   "execution_count": 5,
   "metadata": {},
   "outputs": [
    {
     "data": {
      "text/plain": [
       "0        nan\n",
       "1   2.000000\n",
       "2        nan\n",
       "3        nan\n",
       "4        nan\n",
       "5   2.000000\n",
       "6   2.000000\n",
       "7   2.000000\n",
       "8   2.000000\n",
       "9   1.000000\n",
       "Name: S2BQ1B1, dtype: float64"
      ]
     },
     "execution_count": 5,
     "metadata": {},
     "output_type": "execute_result"
    }
   ],
   "source": [
    "nesarc['S2BQ1B1'] = pd.to_numeric(nesarc['S2BQ1B1'], errors='coerce')\n",
    "nesarc['S2BQ1B1'] = nesarc['S2BQ1B1'].replace(9, np.nan)\n",
    "nesarc['S2BQ1B1'].head(10)"
   ]
  },
  {
   "cell_type": "markdown",
   "metadata": {},
   "source": [
    "# Recode S2BQ1B1 so that\n",
    "# 0 is no \n",
    "# 1 is yes\n",
    "# currently 2 is no\n",
    "# & print first 5 rows \n"
   ]
  },
  {
   "cell_type": "code",
   "execution_count": 6,
   "metadata": {},
   "outputs": [
    {
     "data": {
      "text/plain": [
       "0        nan\n",
       "1   0.000000\n",
       "2        nan\n",
       "3        nan\n",
       "4        nan\n",
       "Name: S2BQ1B1, dtype: float64"
      ]
     },
     "execution_count": 6,
     "metadata": {},
     "output_type": "execute_result"
    }
   ],
   "source": [
    "recode = {2: 0, 1: 1}\n",
    "nesarc['S2BQ1B1'] = nesarc['S2BQ1B1'].map(recode)\n",
    "nesarc['S2BQ1B1'].head(5)"
   ]
  },
  {
   "cell_type": "markdown",
   "metadata": {},
   "source": [
    "# Obtain a subset of nesarc data, with the following criteria\n",
    "# Age from 26 to 50\n",
    "# Beer drinking status - S2AQ5A = Y"
   ]
  },
  {
   "cell_type": "code",
   "execution_count": 7,
   "metadata": {},
   "outputs": [],
   "source": [
    "nesarc['AGE'] = pd.to_numeric(nesarc['AGE'])\n",
    "\n",
    "#subset data to young adults age 26 to 50 who have drink beer in the past 12 months\n",
    "sub1=nesarc[(nesarc['AGE']>=26) & (nesarc['AGE']<=50) & (nesarc['S2AQ5A']==1)]"
   ]
  },
  {
   "cell_type": "markdown",
   "metadata": {},
   "source": [
    "# Copy sub 1 to sub 2"
   ]
  },
  {
   "cell_type": "code",
   "execution_count": 8,
   "metadata": {},
   "outputs": [
    {
     "data": {
      "text/plain": [
       "10517"
      ]
     },
     "execution_count": 8,
     "metadata": {},
     "output_type": "execute_result"
    }
   ],
   "source": [
    "sub2 = sub1.copy()\n",
    "sub2.head()\n",
    "len(sub2)"
   ]
  },
  {
   "cell_type": "markdown",
   "metadata": {},
   "source": [
    "# Use sub2 data\n",
    "# Print the count of HOW OFTEN DRANK BEER IN LAST 12 MONTHS (S2AQ5B)"
   ]
  },
  {
   "cell_type": "code",
   "execution_count": 9,
   "metadata": {},
   "outputs": [
    {
     "name": "stdout",
     "output_type": "stream",
     "text": [
      "counts for original S2AQ5B\n",
      "10.000000    1270\n",
      "7.000000     1229\n",
      "6.000000     1579\n",
      "4.000000     1310\n",
      "8.000000      682\n",
      "5.000000     1485\n",
      "2.000000      369\n",
      "1.000000      417\n",
      "3.000000      925\n",
      "99.000000      25\n",
      "9.000000     1226\n",
      "Name: S2AQ5B, dtype: int64\n"
     ]
    }
   ],
   "source": [
    "c_beer_feq = sub2['S2AQ5B'].value_counts(sort=False, dropna=False)\n",
    "print ('counts for original S2AQ5B')\n",
    "print(c_beer_feq)"
   ]
  },
  {
   "cell_type": "markdown",
   "metadata": {},
   "source": [
    "# Based on my research, I'm assuming that drinking less than once a month is not going to affect a person. So, we are going replace the following in 'HOW OFTEN DRANK BEER IN LAST 12 MONTHS (S2AQ5B)' to nan\n",
    "# 8\n",
    "# 9\n",
    "# 10\n",
    "# 99"
   ]
  },
  {
   "cell_type": "code",
   "execution_count": 10,
   "metadata": {},
   "outputs": [],
   "source": [
    "sub2['S2AQ5B'] = sub2['S2AQ5B'].replace(8, np.nan)\n",
    "sub2['S2AQ5B'] = sub2['S2AQ5B'].replace(9, np.nan)\n",
    "sub2['S2AQ5B'] = sub2['S2AQ5B'].replace(10, np.nan)\n",
    "sub2['S2AQ5B'] = sub2['S2AQ5B'].replace(99, np.nan)"
   ]
  },
  {
   "cell_type": "markdown",
   "metadata": {},
   "source": [
    "# Use sub2 data\n",
    "# Print the count of HOW OFTEN DRANK BEER IN LAST 12 MONTHS (S2AQ5B) with 8, 9, 10 and 99 set nan"
   ]
  },
  {
   "cell_type": "code",
   "execution_count": 11,
   "metadata": {},
   "outputs": [
    {
     "name": "stdout",
     "output_type": "stream",
     "text": [
      "counts for original S2AQ5B with 8, 9, 10 and 99 set to NAN \n",
      "7.000000    1229\n",
      "6.000000    1579\n",
      "4.000000    1310\n",
      "5.000000    1485\n",
      "2.000000     369\n",
      "1.000000     417\n",
      "3.000000     925\n",
      "Name: S2AQ5B, dtype: int64\n"
     ]
    }
   ],
   "source": [
    "c_beer_feq_nan = sub2['S2AQ5B'].value_counts(sort=False)\n",
    "print ('counts for original S2AQ5B with 8, 9, 10 and 99 set to NAN ')\n",
    "print(c_beer_feq_nan)"
   ]
  },
  {
   "cell_type": "markdown",
   "metadata": {},
   "source": [
    "# Use sub2 data\n",
    "# Count the NUMBER OF BEERS USUALLY CONSUMED ON DAYS WHEN DRANK BEER IN LAST 12 MONTHS (S2AQ5D) "
   ]
  },
  {
   "cell_type": "code",
   "execution_count": 12,
   "metadata": {},
   "outputs": [
    {
     "name": "stdout",
     "output_type": "stream",
     "text": [
      "counts for S2AQ5D\n",
      "1.000000     3625\n",
      "4.000000      749\n",
      "3.000000     1619\n",
      "2.000000     3087\n",
      "10.000000      53\n",
      "6.000000      702\n",
      "8.000000      106\n",
      "12.000000     150\n",
      "7.000000       57\n",
      "5.000000      278\n",
      "24.000000      12\n",
      "20.000000       3\n",
      "14.000000       3\n",
      "17.000000       1\n",
      "99.000000      31\n",
      "9.000000       19\n",
      "18.000000      12\n",
      "15.000000       7\n",
      "13.000000       1\n",
      "30.000000       1\n",
      "11.000000       1\n",
      "Name: S2AQ5D, dtype: int64\n"
     ]
    }
   ],
   "source": [
    "c_beer_quan = sub2['S2AQ5D'].value_counts(sort=False, dropna=False)\n",
    "print ('counts for S2AQ5D') \n",
    "print(c_beer_quan)"
   ]
  },
  {
   "cell_type": "markdown",
   "metadata": {},
   "source": [
    "# Use sub2\n",
    "# Replace the 99  in 'NUMBER OF BEERS USUALLY CONSUMED ON DAYS WHEN DRANK BEER IN LAST 12 MONTHS (S2AQ5D)' to nan"
   ]
  },
  {
   "cell_type": "code",
   "execution_count": 13,
   "metadata": {},
   "outputs": [],
   "source": [
    "sub2['S2AQ5D'] = sub2['S2AQ5D'].replace(99, np.nan)"
   ]
  },
  {
   "cell_type": "markdown",
   "metadata": {},
   "source": [
    "# Print the count of 'NUMBER OF BEERS USUALLY CONSUMED ON DAYS WHEN DRANK BEER IN LAST 12 MONTHS (S2AQ5D)'- with 99 set to NAN"
   ]
  },
  {
   "cell_type": "code",
   "execution_count": 14,
   "metadata": {},
   "outputs": [
    {
     "name": "stdout",
     "output_type": "stream",
     "text": [
      "counts for S2AQ5D with 99 set to NAN\n",
      "1.000000     3625\n",
      "4.000000      749\n",
      "3.000000     1619\n",
      "2.000000     3087\n",
      "10.000000      53\n",
      "6.000000      702\n",
      "8.000000      106\n",
      "12.000000     150\n",
      "7.000000       57\n",
      "5.000000      278\n",
      "24.000000      12\n",
      "20.000000       3\n",
      "nan            31\n",
      "14.000000       3\n",
      "17.000000       1\n",
      "9.000000       19\n",
      "18.000000      12\n",
      "15.000000       7\n",
      "13.000000       1\n",
      "30.000000       1\n",
      "11.000000       1\n",
      "Name: S2AQ5D, dtype: int64\n"
     ]
    }
   ],
   "source": [
    "c_beer_quan_nan = sub2['S2AQ5D'].value_counts(sort=False, dropna=False)\n",
    "print ('counts for S2AQ5D with 99 set to NAN')\n",
    "print(c_beer_quan_nan)"
   ]
  },
  {
   "cell_type": "markdown",
   "metadata": {},
   "source": [
    "# Use sub2\n",
    "# Recode HOW OFTEN DRANK BEER IN LAST 12 MONTHS (S2AQ5B) \n",
    "# as following\n",
    "\n",
    "# 1 to 7\n",
    "# 2 to 6\n",
    "# 3 to 5\n",
    "# 5 to 3\n",
    "# 6 to 2 \n",
    "# 7 to 1\n",
    "\n",
    "# so that larger categorical numbers indicate more frequently someone drinks beer\n",
    "\n",
    "# print the count for BEER-FEQ"
   ]
  },
  {
   "cell_type": "code",
   "execution_count": 15,
   "metadata": {},
   "outputs": [
    {
     "name": "stdout",
     "output_type": "stream",
     "text": [
      "counts for S2AQ5B\n",
      "1.000000    1229\n",
      "2.000000    1579\n",
      "4.000000    1310\n",
      "3.000000    1485\n",
      "6.000000     369\n",
      "7.000000     417\n",
      "5.000000     925\n",
      "Name: BEER_FEQ, dtype: int64\n"
     ]
    }
   ],
   "source": [
    "recode1 =  {1: 7, 2: 6, 3: 5, 4: 4, 5: 3, 6: 2, 7: 1} #recoding so that higher numbers mean more smoking frequency\n",
    "sub2['BEER_FEQ'] = sub2['S2AQ5B'].map(recode1)\n",
    "\n",
    "recode_beer_feq =  sub2['BEER_FEQ'].value_counts(sort=False) #get count in each category\n",
    "print ('counts for S2AQ5B')\n",
    "print(recode_beer_feq)"
   ]
  },
  {
   "cell_type": "markdown",
   "metadata": {},
   "source": [
    "# Use sub 2\n",
    "# Recode HOW OFTEN DRANK BEER IN LAST 12 MONTHS (S2AQ5B) \n",
    "# as following\n",
    "\n",
    "# 1 to 30\n",
    "# 2 to 26\n",
    "# 3 to 14\n",
    "# 4 to 8\n",
    "# 5 to 4\n",
    "# 6 to 2.5 \n",
    "# 7 to 1\n",
    "\n",
    "# so that larger categorical numbers indicate more frequently someone drinks beer\n",
    "\n",
    "# print count of BEER_REQMO"
   ]
  },
  {
   "cell_type": "code",
   "execution_count": 16,
   "metadata": {},
   "outputs": [
    {
     "name": "stdout",
     "output_type": "stream",
     "text": [
      "counts for BEER_FEQMO\n",
      "1.000000     1229\n",
      "2.500000     1579\n",
      "8.000000     1310\n",
      "4.000000     1485\n",
      "14.000000     925\n",
      "25.000000     369\n",
      "30.000000     417\n",
      "Name: BEER_FEQMO, dtype: int64\n"
     ]
    }
   ],
   "source": [
    "#recoding values for S2AQ5B into a new variable, BEER_FEQMO\n",
    "recode2 = {1: 30, 2: 25, 3: 14, 4: 8, 5: 4, 6: 2.5, 7: 1} #recode to quantitative variable\n",
    "sub2['BEER_FEQMO'] = sub2['S2AQ5B'].map(recode2)\n",
    "\n",
    "recode_beer_feq_m = sub2['BEER_FEQMO'].value_counts(sort=False) #get count in each category\n",
    "print ('counts for BEER_FEQMO')\n",
    "print(recode_beer_feq_m)"
   ]
  },
  {
   "cell_type": "markdown",
   "metadata": {},
   "source": [
    "# Use sub2\n",
    "# Create secondary variable NUMBEERMO_EST\n",
    "# NUMBEERMO_EST = BEER_FEQMO * S2AQ5D "
   ]
  },
  {
   "cell_type": "code",
   "execution_count": 17,
   "metadata": {},
   "outputs": [
    {
     "data": {
      "text/plain": [
       "1           nan\n",
       "8           nan\n",
       "12     4.000000\n",
       "16          nan\n",
       "24          nan\n",
       "31          nan\n",
       "32    25.000000\n",
       "34    16.000000\n",
       "41    16.000000\n",
       "43          nan\n",
       "44    16.000000\n",
       "46    16.000000\n",
       "51    48.000000\n",
       "54          nan\n",
       "62     1.000000\n",
       "63          nan\n",
       "71     8.000000\n",
       "73    48.000000\n",
       "79    75.000000\n",
       "89    24.000000\n",
       "106    5.000000\n",
       "107         nan\n",
       "110         nan\n",
       "111    1.000000\n",
       "115    4.000000\n",
       "Name: NUMBEERMO_EST, dtype: float64"
      ]
     },
     "execution_count": 17,
     "metadata": {},
     "output_type": "execute_result"
    }
   ],
   "source": [
    "sub2['NUMBEERMO_EST'] = sub2['BEER_FEQMO'] * sub2['S2AQ5D'] #get the number of beers consumed  per month\n",
    "sub2['NUMBEERMO_EST'].head(25)"
   ]
  },
  {
   "cell_type": "markdown",
   "metadata": {},
   "source": [
    "# print the count for age"
   ]
  },
  {
   "cell_type": "code",
   "execution_count": 18,
   "metadata": {},
   "outputs": [
    {
     "name": "stdout",
     "output_type": "stream",
     "text": [
      "counts for AGE\n",
      "32    502\n",
      "40    497\n",
      "48    377\n",
      "33    423\n",
      "41    445\n",
      "49    331\n",
      "26    325\n",
      "34    462\n",
      "42    463\n",
      "50    325\n",
      "27    397\n",
      "35    416\n",
      "43    398\n",
      "28    347\n",
      "36    464\n",
      "44    381\n",
      "29    407\n",
      "37    498\n",
      "45    434\n",
      "30    443\n",
      "38    504\n",
      "46    396\n",
      "31    453\n",
      "39    464\n",
      "47    365\n",
      "Name: AGE, dtype: int64\n"
     ]
    }
   ],
   "source": [
    "#examining frequency distributions for age\n",
    "c_age = sub2['AGE'].value_counts(sort=False)\n",
    "print ('counts for AGE')\n",
    "print(c_age)"
   ]
  },
  {
   "cell_type": "markdown",
   "metadata": {},
   "source": [
    "# use sub2\n",
    "# print percentag for age"
   ]
  },
  {
   "cell_type": "code",
   "execution_count": 19,
   "metadata": {},
   "outputs": [
    {
     "name": "stdout",
     "output_type": "stream",
     "text": [
      "percentages for AGE\n",
      "32   0.047732\n",
      "40   0.047257\n",
      "48   0.035847\n",
      "33   0.040221\n",
      "41   0.042312\n",
      "49   0.031473\n",
      "26   0.030902\n",
      "34   0.043929\n",
      "42   0.044024\n",
      "50   0.030902\n",
      "27   0.037748\n",
      "35   0.039555\n",
      "43   0.037843\n",
      "28   0.032994\n",
      "36   0.044119\n",
      "44   0.036227\n",
      "29   0.038699\n",
      "37   0.047352\n",
      "45   0.041267\n",
      "30   0.042122\n",
      "38   0.047922\n",
      "46   0.037653\n",
      "31   0.043073\n",
      "39   0.044119\n",
      "47   0.034706\n",
      "Name: AGE, dtype: float64\n"
     ]
    }
   ],
   "source": [
    "p_age = sub2['AGE'].value_counts(sort=False, normalize=True)\n",
    "print ('percentages for AGE')\n",
    "print (p_age)"
   ]
  },
  {
   "cell_type": "markdown",
   "metadata": {},
   "source": [
    "# Group age into 3 groups\n",
    "# 26 - 33\n",
    "# 34 - 41\n",
    "# 42 - 50"
   ]
  },
  {
   "cell_type": "code",
   "execution_count": 20,
   "metadata": {},
   "outputs": [],
   "source": [
    "# splits into 3 groups (26-50) - remember that Python starts counting from 0, not 1\n",
    "sub2['AGEGROUP3'] = pd.cut(sub2.AGE, [25,33,41,50])"
   ]
  },
  {
   "cell_type": "markdown",
   "metadata": {},
   "source": [
    "# print the count of this new group"
   ]
  },
  {
   "cell_type": "code",
   "execution_count": 21,
   "metadata": {},
   "outputs": [
    {
     "name": "stdout",
     "output_type": "stream",
     "text": [
      "counts for AGEGROUP3\n",
      "(25, 33]    3297\n",
      "(33, 41]    3750\n",
      "(41, 50]    3470\n",
      "Name: AGEGROUP3, dtype: int64\n"
     ]
    }
   ],
   "source": [
    "c_age_group = sub2['AGEGROUP3'].value_counts(sort=False, dropna=True)\n",
    "print('counts for AGEGROUP3')\n",
    "print(c_age_group)"
   ]
  },
  {
   "cell_type": "markdown",
   "metadata": {},
   "source": [
    "# print the percentage of this new group"
   ]
  },
  {
   "cell_type": "code",
   "execution_count": 22,
   "metadata": {},
   "outputs": [
    {
     "name": "stdout",
     "output_type": "stream",
     "text": [
      "percentages for AGEGROUP3\n",
      "(25, 33]   0.313492\n",
      "(33, 41]   0.356566\n",
      "(41, 50]   0.329942\n",
      "Name: AGEGROUP3, dtype: float64\n"
     ]
    }
   ],
   "source": [
    "print('percentages for AGEGROUP3')\n",
    "p_age_group = sub2['AGEGROUP3'].value_counts(sort=False, normalize=True)\n",
    "print(p_age_group)"
   ]
  },
  {
   "cell_type": "markdown",
   "metadata": {},
   "source": [
    "# Print the crosstab between AGEGROUP3 and AGE"
   ]
  },
  {
   "cell_type": "code",
   "execution_count": 23,
   "metadata": {},
   "outputs": [
    {
     "name": "stdout",
     "output_type": "stream",
     "text": [
      "AGE         26   27   28   29   30   31   32   33   34   35 ...    41   42  \\\n",
      "AGEGROUP3                                                   ...              \n",
      "(25, 33]   325  397  347  407  443  453  502  423    0    0 ...     0    0   \n",
      "(33, 41]     0    0    0    0    0    0    0    0  462  416 ...   445    0   \n",
      "(41, 50]     0    0    0    0    0    0    0    0    0    0 ...     0  463   \n",
      "\n",
      "AGE         43   44   45   46   47   48   49   50  \n",
      "AGEGROUP3                                          \n",
      "(25, 33]     0    0    0    0    0    0    0    0  \n",
      "(33, 41]     0    0    0    0    0    0    0    0  \n",
      "(41, 50]   398  381  434  396  365  377  331  325  \n",
      "\n",
      "[3 rows x 25 columns]\n"
     ]
    }
   ],
   "source": [
    "#crosstabs evaluating which ages were put into which AGEGROUP3\n",
    "print (pd.crosstab(sub2['AGEGROUP3'], sub2['AGE']))"
   ]
  },
  {
   "cell_type": "code",
   "execution_count": null,
   "metadata": {},
   "outputs": [],
   "source": []
  }
 ],
 "metadata": {
  "kernelspec": {
   "display_name": "Python 3",
   "language": "python",
   "name": "python3"
  },
  "language_info": {
   "codemirror_mode": {
    "name": "ipython",
    "version": 3
   },
   "file_extension": ".py",
   "mimetype": "text/x-python",
   "name": "python",
   "nbconvert_exporter": "python",
   "pygments_lexer": "ipython3",
   "version": "3.7.1"
  }
 },
 "nbformat": 4,
 "nbformat_minor": 2
}
